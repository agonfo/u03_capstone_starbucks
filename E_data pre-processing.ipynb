{
 "cells": [
  {
   "source": [
    "# EXAMPLES FOR EXPLAINING METHODS AND VISUALIZATION"
   ],
   "cell_type": "markdown",
   "metadata": {}
  },
  {
   "cell_type": "code",
   "execution_count": 1,
   "metadata": {
    "tags": []
   },
   "outputs": [],
   "source": [
    "import pandas as pd\n",
    "import numpy as np\n",
    "import math\n",
    "import json\n",
    "\n",
    "%matplotlib inline\n",
    "\n",
    "# read in the json files\n",
    "portfolio = pd.read_json('data/portfolio.json', orient='records', lines=True)\n",
    "profile = pd.read_json('data/profile.json', orient='records', lines=True)\n",
    "transcript = pd.read_json('data/transcript.json', orient='records', lines=True)"
   ]
  },
  {
   "cell_type": "code",
   "execution_count": 332,
   "metadata": {},
   "outputs": [],
   "source": [
    "def id_mapper(df , column):\n",
    "    '''\n",
    "    Map a column in a DataFrame and create a dict to change its value to a sequence of strings ('1','2','3'...) for easier use. \n",
    "    A str is consider becouse its numeric value dosent have any meaning\n",
    "    note: this function was considere for changing user ids and offer ids into easier values, but during the procces it was not necessary, its only used to name the type of offers.\n",
    "    \n",
    "    INPUT:\n",
    "        df - (DataFrame) \n",
    "        column - (str) name of the column to create dictionary\n",
    "    OUTPUT:\n",
    "        coded_dict - (dict) A dictionary with the given column values as key and the 'new' encoded sequence as value\n",
    "    '''  \n",
    "    coded_dict = dict()\n",
    "    cter = 1\n",
    "    \n",
    "    for x in df[column]:\n",
    "        if x not in coded_dict:\n",
    "            coded_dict[x] = cter\n",
    "            cter+=1\n",
    "            \n",
    "    return coded_dict"
   ]
  },
  {
   "cell_type": "code",
   "execution_count": 308,
   "metadata": {},
   "outputs": [],
   "source": [
    "def offer_type_mapper(df=portfolio):\n",
    "    '''\n",
    "   Create a data frame to relate each offer with offer type\n",
    "    \n",
    "    IMPUT:  df - (DataFrame) - portfolio as default dataframe \n",
    "    OUTPUT: \n",
    "            offer_type - (DataFrame) - relation between offer id and type of offer  \n",
    "            coded_dict - (dict) - relation between type offer sequence and real type offer (see id_mapper)\n",
    "    \n",
    "    '''    \n",
    "    # get sequence to name type of offers\n",
    "    coded_dict = id_mapper(df, 'offer_type')\n",
    "    \n",
    "    coded_df = df.replace({\"offer_type\":coded_dict})\n",
    "    offer_type = coded_df[['id' , 'offer_type' , 'duration']]\n",
    "    \n",
    "    return offer_type , coded_dict"
   ]
  },
  {
   "cell_type": "code",
   "execution_count": 12,
   "metadata": {},
   "outputs": [
    {
     "output_type": "execute_result",
     "data": {
      "text/plain": "   reward                      channels  difficulty  duration     offer_type  \\\n0      10       [email, mobile, social]          10         7           bogo   \n1      10  [web, email, mobile, social]          10         5           bogo   \n2       0          [web, email, mobile]           0         4  informational   \n3       5          [web, email, mobile]           5         7           bogo   \n4       5                  [web, email]          20        10       discount   \n5       3  [web, email, mobile, social]           7         7       discount   \n6       2  [web, email, mobile, social]          10        10       discount   \n7       0       [email, mobile, social]           0         3  informational   \n8       5  [web, email, mobile, social]           5         5           bogo   \n9       2          [web, email, mobile]          10         7       discount   \n\n                                 id  \n0  ae264e3637204a6fb9bb56bc8210ddfd  \n1  4d5c57ea9a6940dd891ad53e9dbe8da0  \n2  3f207df678b143eea3cee63160fa8bed  \n3  9b98b8c7a33c4b65b9aebfe6a799e6d9  \n4  0b1e1539f2cc45b7b9fa7c272da2e1d7  \n5  2298d6c36e964ae4a3e7e9706d1fb8c2  \n6  fafdcd668e3743c1bb461111dcafc2a4  \n7  5a8bc65990b245e5a138643cd4eb9837  \n8  f19421c1d4aa40978ebb69ca19b0e20d  \n9  2906b810c7d4411798c6938adc9daaa5  ",
      "text/html": "<div>\n<style scoped>\n    .dataframe tbody tr th:only-of-type {\n        vertical-align: middle;\n    }\n\n    .dataframe tbody tr th {\n        vertical-align: top;\n    }\n\n    .dataframe thead th {\n        text-align: right;\n    }\n</style>\n<table border=\"1\" class=\"dataframe\">\n  <thead>\n    <tr style=\"text-align: right;\">\n      <th></th>\n      <th>reward</th>\n      <th>channels</th>\n      <th>difficulty</th>\n      <th>duration</th>\n      <th>offer_type</th>\n      <th>id</th>\n    </tr>\n  </thead>\n  <tbody>\n    <tr>\n      <th>0</th>\n      <td>10</td>\n      <td>[email, mobile, social]</td>\n      <td>10</td>\n      <td>7</td>\n      <td>bogo</td>\n      <td>ae264e3637204a6fb9bb56bc8210ddfd</td>\n    </tr>\n    <tr>\n      <th>1</th>\n      <td>10</td>\n      <td>[web, email, mobile, social]</td>\n      <td>10</td>\n      <td>5</td>\n      <td>bogo</td>\n      <td>4d5c57ea9a6940dd891ad53e9dbe8da0</td>\n    </tr>\n    <tr>\n      <th>2</th>\n      <td>0</td>\n      <td>[web, email, mobile]</td>\n      <td>0</td>\n      <td>4</td>\n      <td>informational</td>\n      <td>3f207df678b143eea3cee63160fa8bed</td>\n    </tr>\n    <tr>\n      <th>3</th>\n      <td>5</td>\n      <td>[web, email, mobile]</td>\n      <td>5</td>\n      <td>7</td>\n      <td>bogo</td>\n      <td>9b98b8c7a33c4b65b9aebfe6a799e6d9</td>\n    </tr>\n    <tr>\n      <th>4</th>\n      <td>5</td>\n      <td>[web, email]</td>\n      <td>20</td>\n      <td>10</td>\n      <td>discount</td>\n      <td>0b1e1539f2cc45b7b9fa7c272da2e1d7</td>\n    </tr>\n    <tr>\n      <th>5</th>\n      <td>3</td>\n      <td>[web, email, mobile, social]</td>\n      <td>7</td>\n      <td>7</td>\n      <td>discount</td>\n      <td>2298d6c36e964ae4a3e7e9706d1fb8c2</td>\n    </tr>\n    <tr>\n      <th>6</th>\n      <td>2</td>\n      <td>[web, email, mobile, social]</td>\n      <td>10</td>\n      <td>10</td>\n      <td>discount</td>\n      <td>fafdcd668e3743c1bb461111dcafc2a4</td>\n    </tr>\n    <tr>\n      <th>7</th>\n      <td>0</td>\n      <td>[email, mobile, social]</td>\n      <td>0</td>\n      <td>3</td>\n      <td>informational</td>\n      <td>5a8bc65990b245e5a138643cd4eb9837</td>\n    </tr>\n    <tr>\n      <th>8</th>\n      <td>5</td>\n      <td>[web, email, mobile, social]</td>\n      <td>5</td>\n      <td>5</td>\n      <td>bogo</td>\n      <td>f19421c1d4aa40978ebb69ca19b0e20d</td>\n    </tr>\n    <tr>\n      <th>9</th>\n      <td>2</td>\n      <td>[web, email, mobile]</td>\n      <td>10</td>\n      <td>7</td>\n      <td>discount</td>\n      <td>2906b810c7d4411798c6938adc9daaa5</td>\n    </tr>\n  </tbody>\n</table>\n</div>"
     },
     "metadata": {},
     "execution_count": 12
    }
   ],
   "source": [
    "portfolio"
   ]
  },
  {
   "cell_type": "code",
   "execution_count": 2,
   "metadata": {},
   "outputs": [],
   "source": [
    "# split gender into dummies columns\n",
    "profile_mod = pd.concat([profile , pd.get_dummies(profile['gender'])],axis=1)\n",
    "profile_mod.drop(['gender' , 'became_member_on'],axis=1, inplace=True)"
   ]
  },
  {
   "cell_type": "code",
   "execution_count": 309,
   "metadata": {},
   "outputs": [
    {
     "output_type": "execute_result",
     "data": {
      "text/plain": "                           offer id  offer_type  duration\n0  ae264e3637204a6fb9bb56bc8210ddfd           1       168\n1  4d5c57ea9a6940dd891ad53e9dbe8da0           1       120\n2  3f207df678b143eea3cee63160fa8bed           2        96\n3  9b98b8c7a33c4b65b9aebfe6a799e6d9           1       168\n4  0b1e1539f2cc45b7b9fa7c272da2e1d7           3       240\n5  2298d6c36e964ae4a3e7e9706d1fb8c2           3       168\n6  fafdcd668e3743c1bb461111dcafc2a4           3       240\n7  5a8bc65990b245e5a138643cd4eb9837           2        72\n8  f19421c1d4aa40978ebb69ca19b0e20d           1       120\n9  2906b810c7d4411798c6938adc9daaa5           3       168",
      "text/html": "<div>\n<style scoped>\n    .dataframe tbody tr th:only-of-type {\n        vertical-align: middle;\n    }\n\n    .dataframe tbody tr th {\n        vertical-align: top;\n    }\n\n    .dataframe thead th {\n        text-align: right;\n    }\n</style>\n<table border=\"1\" class=\"dataframe\">\n  <thead>\n    <tr style=\"text-align: right;\">\n      <th></th>\n      <th>offer id</th>\n      <th>offer_type</th>\n      <th>duration</th>\n    </tr>\n  </thead>\n  <tbody>\n    <tr>\n      <th>0</th>\n      <td>ae264e3637204a6fb9bb56bc8210ddfd</td>\n      <td>1</td>\n      <td>168</td>\n    </tr>\n    <tr>\n      <th>1</th>\n      <td>4d5c57ea9a6940dd891ad53e9dbe8da0</td>\n      <td>1</td>\n      <td>120</td>\n    </tr>\n    <tr>\n      <th>2</th>\n      <td>3f207df678b143eea3cee63160fa8bed</td>\n      <td>2</td>\n      <td>96</td>\n    </tr>\n    <tr>\n      <th>3</th>\n      <td>9b98b8c7a33c4b65b9aebfe6a799e6d9</td>\n      <td>1</td>\n      <td>168</td>\n    </tr>\n    <tr>\n      <th>4</th>\n      <td>0b1e1539f2cc45b7b9fa7c272da2e1d7</td>\n      <td>3</td>\n      <td>240</td>\n    </tr>\n    <tr>\n      <th>5</th>\n      <td>2298d6c36e964ae4a3e7e9706d1fb8c2</td>\n      <td>3</td>\n      <td>168</td>\n    </tr>\n    <tr>\n      <th>6</th>\n      <td>fafdcd668e3743c1bb461111dcafc2a4</td>\n      <td>3</td>\n      <td>240</td>\n    </tr>\n    <tr>\n      <th>7</th>\n      <td>5a8bc65990b245e5a138643cd4eb9837</td>\n      <td>2</td>\n      <td>72</td>\n    </tr>\n    <tr>\n      <th>8</th>\n      <td>f19421c1d4aa40978ebb69ca19b0e20d</td>\n      <td>1</td>\n      <td>120</td>\n    </tr>\n    <tr>\n      <th>9</th>\n      <td>2906b810c7d4411798c6938adc9daaa5</td>\n      <td>3</td>\n      <td>168</td>\n    </tr>\n  </tbody>\n</table>\n</div>"
     },
     "metadata": {},
     "execution_count": 309
    }
   ],
   "source": [
    "#map offer type \n",
    "map_offer_type, dict_offer_type = offer_type_mapper(portfolio)\n",
    "map_offer_type['duration'] = map_offer_type['duration'] * 24\n",
    "map_offer_type.rename(columns={'id': 'offer id'} , inplace = True)\n",
    "\n",
    "map_offer_type"
   ]
  },
  {
   "source": [
    "# arrange_events(df=transcript):"
   ],
   "cell_type": "markdown",
   "metadata": {}
  },
  {
   "cell_type": "code",
   "execution_count": 310,
   "metadata": {},
   "outputs": [],
   "source": [
    "# read dictionary from 'value' feature and create columns \n",
    "df_no = pd.concat([transcript.drop(['value'], axis=1), transcript['value'].apply(pd.Series)], axis=1)"
   ]
  },
  {
   "cell_type": "code",
   "execution_count": 311,
   "metadata": {},
   "outputs": [],
   "source": [
    "# merge offer id and offer_id columns\n",
    "df_no['offer id'] = df_no['offer id'].combine_first(df_no['offer_id'])\n",
    "df = df_no.drop(columns = ['offer_id'])"
   ]
  },
  {
   "cell_type": "code",
   "execution_count": 313,
   "metadata": {},
   "outputs": [],
   "source": [
    "# split into two dataFrames to merge rows with transaction and offer recived in the same time\n",
    "df1 = df[df['event'] == 'offer completed'][['person' , 'event' , 'time' , 'offer id' , 'reward']]\n",
    "df2 = df[df['event'] == 'transaction'][['person' ,  'time' , 'amount']]\n",
    "df3 = df[df['event'] != 'offer completed']\n",
    "df3 = df3[df3['event'] != 'transaction'][['person' , 'event' , 'time' , 'offer id']]"
   ]
  },
  {
   "cell_type": "code",
   "execution_count": 314,
   "metadata": {},
   "outputs": [],
   "source": [
    "df_trans_completed = pd.merge(df1, df2, how='outer', on=['person', 'time'])"
   ]
  },
  {
   "cell_type": "code",
   "execution_count": 315,
   "metadata": {},
   "outputs": [],
   "source": [
    "df = pd.merge(df3, df_trans_completed, how='outer', on=['person', 'time' , 'event' , 'offer id'])"
   ]
  },
  {
   "cell_type": "code",
   "execution_count": 317,
   "metadata": {},
   "outputs": [
    {
     "output_type": "execute_result",
     "data": {
      "text/plain": "                             person           event  time  \\\n0  78afa995795e4d85b5d9ceeca43f5fef  offer received     0   \n1  a03223e636434f42ac4c3df47e8bac43  offer received     0   \n2  e2127556f4f64592b11af22de27a7932  offer received     0   \n3  8ec6ce2a7e7949b1bf142def7d0e0586  offer received     0   \n4  68617ca6246f4fbc85e91a2a49552598  offer received     0   \n\n                           offer id  reward  amount  offer completed  \\\n0  9b98b8c7a33c4b65b9aebfe6a799e6d9     NaN     NaN              NaN   \n1  0b1e1539f2cc45b7b9fa7c272da2e1d7     NaN     NaN              NaN   \n2  2906b810c7d4411798c6938adc9daaa5     NaN     NaN              NaN   \n3  fafdcd668e3743c1bb461111dcafc2a4     NaN     NaN              NaN   \n4  4d5c57ea9a6940dd891ad53e9dbe8da0     NaN     NaN              NaN   \n\n   offer received  offer viewed  \n0             0.0           NaN  \n1             0.0           NaN  \n2             0.0           NaN  \n3             0.0           NaN  \n4             0.0           NaN  ",
      "text/html": "<div>\n<style scoped>\n    .dataframe tbody tr th:only-of-type {\n        vertical-align: middle;\n    }\n\n    .dataframe tbody tr th {\n        vertical-align: top;\n    }\n\n    .dataframe thead th {\n        text-align: right;\n    }\n</style>\n<table border=\"1\" class=\"dataframe\">\n  <thead>\n    <tr style=\"text-align: right;\">\n      <th></th>\n      <th>person</th>\n      <th>event</th>\n      <th>time</th>\n      <th>offer id</th>\n      <th>reward</th>\n      <th>amount</th>\n      <th>offer completed</th>\n      <th>offer received</th>\n      <th>offer viewed</th>\n    </tr>\n  </thead>\n  <tbody>\n    <tr>\n      <th>0</th>\n      <td>78afa995795e4d85b5d9ceeca43f5fef</td>\n      <td>offer received</td>\n      <td>0</td>\n      <td>9b98b8c7a33c4b65b9aebfe6a799e6d9</td>\n      <td>NaN</td>\n      <td>NaN</td>\n      <td>NaN</td>\n      <td>0.0</td>\n      <td>NaN</td>\n    </tr>\n    <tr>\n      <th>1</th>\n      <td>a03223e636434f42ac4c3df47e8bac43</td>\n      <td>offer received</td>\n      <td>0</td>\n      <td>0b1e1539f2cc45b7b9fa7c272da2e1d7</td>\n      <td>NaN</td>\n      <td>NaN</td>\n      <td>NaN</td>\n      <td>0.0</td>\n      <td>NaN</td>\n    </tr>\n    <tr>\n      <th>2</th>\n      <td>e2127556f4f64592b11af22de27a7932</td>\n      <td>offer received</td>\n      <td>0</td>\n      <td>2906b810c7d4411798c6938adc9daaa5</td>\n      <td>NaN</td>\n      <td>NaN</td>\n      <td>NaN</td>\n      <td>0.0</td>\n      <td>NaN</td>\n    </tr>\n    <tr>\n      <th>3</th>\n      <td>8ec6ce2a7e7949b1bf142def7d0e0586</td>\n      <td>offer received</td>\n      <td>0</td>\n      <td>fafdcd668e3743c1bb461111dcafc2a4</td>\n      <td>NaN</td>\n      <td>NaN</td>\n      <td>NaN</td>\n      <td>0.0</td>\n      <td>NaN</td>\n    </tr>\n    <tr>\n      <th>4</th>\n      <td>68617ca6246f4fbc85e91a2a49552598</td>\n      <td>offer received</td>\n      <td>0</td>\n      <td>4d5c57ea9a6940dd891ad53e9dbe8da0</td>\n      <td>NaN</td>\n      <td>NaN</td>\n      <td>NaN</td>\n      <td>0.0</td>\n      <td>NaN</td>\n    </tr>\n  </tbody>\n</table>\n</div>"
     },
     "metadata": {},
     "execution_count": 317
    }
   ],
   "source": [
    "# create columns of type of event with the value of time\n",
    "df = pd.concat([df, df.pivot_table(values='time', index=df.index, columns='event', aggfunc='first')], axis=1, sort=False)\n",
    "df.head()"
   ]
  },
  {
   "cell_type": "code",
   "execution_count": 318,
   "metadata": {},
   "outputs": [],
   "source": [
    "# fill NaN values in the offer id feature as 'no offer' to keep track of the transactions without an offer\n",
    "df['offer id'] = df['offer id'].fillna(value = 'no offer')\n",
    "df = df.rename(columns={'person':'user id'})"
   ]
  },
  {
   "cell_type": "code",
   "execution_count": 320,
   "metadata": {},
   "outputs": [
    {
     "output_type": "execute_result",
     "data": {
      "text/plain": "                                 user id           event  time  \\\n0       78afa995795e4d85b5d9ceeca43f5fef  offer received     0   \n1       ebe7ef46ea6f4963a7dd49f501b26779  offer received     0   \n2       f082d80f0aac47a99173ba8ef8fc1909  offer received     0   \n3       c0d210398dee4a0895b24444a5fcd1d2  offer received     0   \n4       57dd18ec5ddc46828afb81ec5977bef2  offer received     0   \n...                                  ...             ...   ...   \n275912  b3a1272bc9904337b331bf348c3e8c17             NaN   714   \n275913  68213b08d99a4ae1b0dcb72aebd9aa35             NaN   714   \n275914  a00058cf10334a308c68e7631c529907             NaN   714   \n275915  76ddbd6576844afe811f1a3c0fbb5bec             NaN   714   \n275916  c02b10e8752c4d8e9b73f918558531f7             NaN   714   \n\n                                offer id  reward  amount  offer completed  \\\n0       9b98b8c7a33c4b65b9aebfe6a799e6d9     NaN     NaN              NaN   \n1       9b98b8c7a33c4b65b9aebfe6a799e6d9     NaN     NaN              NaN   \n2       9b98b8c7a33c4b65b9aebfe6a799e6d9     NaN     NaN              NaN   \n3       9b98b8c7a33c4b65b9aebfe6a799e6d9     NaN     NaN              NaN   \n4       9b98b8c7a33c4b65b9aebfe6a799e6d9     NaN     NaN              NaN   \n...                                  ...     ...     ...              ...   \n275912                          no offer     NaN    1.59              NaN   \n275913                          no offer     NaN    9.53              NaN   \n275914                          no offer     NaN    3.61              NaN   \n275915                          no offer     NaN    3.53              NaN   \n275916                          no offer     NaN    4.05              NaN   \n\n        offer received  offer viewed  offer type  duration  \n0                  0.0           NaN         1.0     168.0  \n1                  0.0           NaN         1.0     168.0  \n2                  0.0           NaN         1.0     168.0  \n3                  0.0           NaN         1.0     168.0  \n4                  0.0           NaN         1.0     168.0  \n...                ...           ...         ...       ...  \n275912             NaN           NaN         NaN       NaN  \n275913             NaN           NaN         NaN       NaN  \n275914             NaN           NaN         NaN       NaN  \n275915             NaN           NaN         NaN       NaN  \n275916             NaN           NaN         NaN       NaN  \n\n[275917 rows x 11 columns]",
      "text/html": "<div>\n<style scoped>\n    .dataframe tbody tr th:only-of-type {\n        vertical-align: middle;\n    }\n\n    .dataframe tbody tr th {\n        vertical-align: top;\n    }\n\n    .dataframe thead th {\n        text-align: right;\n    }\n</style>\n<table border=\"1\" class=\"dataframe\">\n  <thead>\n    <tr style=\"text-align: right;\">\n      <th></th>\n      <th>user id</th>\n      <th>event</th>\n      <th>time</th>\n      <th>offer id</th>\n      <th>reward</th>\n      <th>amount</th>\n      <th>offer completed</th>\n      <th>offer received</th>\n      <th>offer viewed</th>\n      <th>offer type</th>\n      <th>duration</th>\n    </tr>\n  </thead>\n  <tbody>\n    <tr>\n      <th>0</th>\n      <td>78afa995795e4d85b5d9ceeca43f5fef</td>\n      <td>offer received</td>\n      <td>0</td>\n      <td>9b98b8c7a33c4b65b9aebfe6a799e6d9</td>\n      <td>NaN</td>\n      <td>NaN</td>\n      <td>NaN</td>\n      <td>0.0</td>\n      <td>NaN</td>\n      <td>1.0</td>\n      <td>168.0</td>\n    </tr>\n    <tr>\n      <th>1</th>\n      <td>ebe7ef46ea6f4963a7dd49f501b26779</td>\n      <td>offer received</td>\n      <td>0</td>\n      <td>9b98b8c7a33c4b65b9aebfe6a799e6d9</td>\n      <td>NaN</td>\n      <td>NaN</td>\n      <td>NaN</td>\n      <td>0.0</td>\n      <td>NaN</td>\n      <td>1.0</td>\n      <td>168.0</td>\n    </tr>\n    <tr>\n      <th>2</th>\n      <td>f082d80f0aac47a99173ba8ef8fc1909</td>\n      <td>offer received</td>\n      <td>0</td>\n      <td>9b98b8c7a33c4b65b9aebfe6a799e6d9</td>\n      <td>NaN</td>\n      <td>NaN</td>\n      <td>NaN</td>\n      <td>0.0</td>\n      <td>NaN</td>\n      <td>1.0</td>\n      <td>168.0</td>\n    </tr>\n    <tr>\n      <th>3</th>\n      <td>c0d210398dee4a0895b24444a5fcd1d2</td>\n      <td>offer received</td>\n      <td>0</td>\n      <td>9b98b8c7a33c4b65b9aebfe6a799e6d9</td>\n      <td>NaN</td>\n      <td>NaN</td>\n      <td>NaN</td>\n      <td>0.0</td>\n      <td>NaN</td>\n      <td>1.0</td>\n      <td>168.0</td>\n    </tr>\n    <tr>\n      <th>4</th>\n      <td>57dd18ec5ddc46828afb81ec5977bef2</td>\n      <td>offer received</td>\n      <td>0</td>\n      <td>9b98b8c7a33c4b65b9aebfe6a799e6d9</td>\n      <td>NaN</td>\n      <td>NaN</td>\n      <td>NaN</td>\n      <td>0.0</td>\n      <td>NaN</td>\n      <td>1.0</td>\n      <td>168.0</td>\n    </tr>\n    <tr>\n      <th>...</th>\n      <td>...</td>\n      <td>...</td>\n      <td>...</td>\n      <td>...</td>\n      <td>...</td>\n      <td>...</td>\n      <td>...</td>\n      <td>...</td>\n      <td>...</td>\n      <td>...</td>\n      <td>...</td>\n    </tr>\n    <tr>\n      <th>275912</th>\n      <td>b3a1272bc9904337b331bf348c3e8c17</td>\n      <td>NaN</td>\n      <td>714</td>\n      <td>no offer</td>\n      <td>NaN</td>\n      <td>1.59</td>\n      <td>NaN</td>\n      <td>NaN</td>\n      <td>NaN</td>\n      <td>NaN</td>\n      <td>NaN</td>\n    </tr>\n    <tr>\n      <th>275913</th>\n      <td>68213b08d99a4ae1b0dcb72aebd9aa35</td>\n      <td>NaN</td>\n      <td>714</td>\n      <td>no offer</td>\n      <td>NaN</td>\n      <td>9.53</td>\n      <td>NaN</td>\n      <td>NaN</td>\n      <td>NaN</td>\n      <td>NaN</td>\n      <td>NaN</td>\n    </tr>\n    <tr>\n      <th>275914</th>\n      <td>a00058cf10334a308c68e7631c529907</td>\n      <td>NaN</td>\n      <td>714</td>\n      <td>no offer</td>\n      <td>NaN</td>\n      <td>3.61</td>\n      <td>NaN</td>\n      <td>NaN</td>\n      <td>NaN</td>\n      <td>NaN</td>\n      <td>NaN</td>\n    </tr>\n    <tr>\n      <th>275915</th>\n      <td>76ddbd6576844afe811f1a3c0fbb5bec</td>\n      <td>NaN</td>\n      <td>714</td>\n      <td>no offer</td>\n      <td>NaN</td>\n      <td>3.53</td>\n      <td>NaN</td>\n      <td>NaN</td>\n      <td>NaN</td>\n      <td>NaN</td>\n      <td>NaN</td>\n    </tr>\n    <tr>\n      <th>275916</th>\n      <td>c02b10e8752c4d8e9b73f918558531f7</td>\n      <td>NaN</td>\n      <td>714</td>\n      <td>no offer</td>\n      <td>NaN</td>\n      <td>4.05</td>\n      <td>NaN</td>\n      <td>NaN</td>\n      <td>NaN</td>\n      <td>NaN</td>\n      <td>NaN</td>\n    </tr>\n  </tbody>\n</table>\n<p>275917 rows × 11 columns</p>\n</div>"
     },
     "metadata": {},
     "execution_count": 320
    }
   ],
   "source": [
    "df = pd.merge(df, map_offer_type, how='outer', on=['offer id'])\n",
    "df.rename(columns={'offer_type': 'offer type'} , inplace = True)\n",
    "df"
   ]
  },
  {
   "source": [
    "# offer_merge()#"
   ],
   "cell_type": "markdown",
   "metadata": {}
  },
  {
   "cell_type": "code",
   "execution_count": 333,
   "metadata": {},
   "outputs": [
    {
     "output_type": "execute_result",
     "data": {
      "text/plain": "                                 user id           event  time  \\\n16202   a03223e636434f42ac4c3df47e8bac43  offer received     0   \n17548   a03223e636434f42ac4c3df47e8bac43    offer viewed     6   \n23117   a03223e636434f42ac4c3df47e8bac43  offer received   504   \n24742   a03223e636434f42ac4c3df47e8bac43  offer received   576   \n26327   a03223e636434f42ac4c3df47e8bac43    offer viewed   624   \n127473  a03223e636434f42ac4c3df47e8bac43  offer received   336   \n128752  a03223e636434f42ac4c3df47e8bac43    offer viewed   336   \n160432  a03223e636434f42ac4c3df47e8bac43  offer received   408   \n198163  a03223e636434f42ac4c3df47e8bac43             NaN   234   \n202840  a03223e636434f42ac4c3df47e8bac43             NaN   264   \n257768  a03223e636434f42ac4c3df47e8bac43             NaN   612   \n\n                                offer id  reward  amount  offer completed  \\\n16202   0b1e1539f2cc45b7b9fa7c272da2e1d7     NaN     NaN              NaN   \n17548   0b1e1539f2cc45b7b9fa7c272da2e1d7     NaN     NaN              NaN   \n23117   0b1e1539f2cc45b7b9fa7c272da2e1d7     NaN     NaN              NaN   \n24742   0b1e1539f2cc45b7b9fa7c272da2e1d7     NaN     NaN              NaN   \n26327   0b1e1539f2cc45b7b9fa7c272da2e1d7     NaN     NaN              NaN   \n127473  3f207df678b143eea3cee63160fa8bed     NaN     NaN              NaN   \n128752  3f207df678b143eea3cee63160fa8bed     NaN     NaN              NaN   \n160432  5a8bc65990b245e5a138643cd4eb9837     NaN     NaN              NaN   \n198163                          no offer     NaN    1.09              NaN   \n202840                          no offer     NaN    3.50              NaN   \n257768                          no offer     NaN    0.06              NaN   \n\n        offer received  offer viewed  offer type  duration  \n16202              0.0           NaN         3.0     240.0  \n17548              NaN           6.0         3.0     240.0  \n23117            504.0           NaN         3.0     240.0  \n24742            576.0           NaN         3.0     240.0  \n26327              NaN         624.0         3.0     240.0  \n127473           336.0           NaN         2.0      96.0  \n128752             NaN         336.0         2.0      96.0  \n160432           408.0           NaN         2.0      72.0  \n198163             NaN           NaN         NaN       NaN  \n202840             NaN           NaN         NaN       NaN  \n257768             NaN           NaN         NaN       NaN  ",
      "text/html": "<div>\n<style scoped>\n    .dataframe tbody tr th:only-of-type {\n        vertical-align: middle;\n    }\n\n    .dataframe tbody tr th {\n        vertical-align: top;\n    }\n\n    .dataframe thead th {\n        text-align: right;\n    }\n</style>\n<table border=\"1\" class=\"dataframe\">\n  <thead>\n    <tr style=\"text-align: right;\">\n      <th></th>\n      <th>user id</th>\n      <th>event</th>\n      <th>time</th>\n      <th>offer id</th>\n      <th>reward</th>\n      <th>amount</th>\n      <th>offer completed</th>\n      <th>offer received</th>\n      <th>offer viewed</th>\n      <th>offer type</th>\n      <th>duration</th>\n    </tr>\n  </thead>\n  <tbody>\n    <tr>\n      <th>16202</th>\n      <td>a03223e636434f42ac4c3df47e8bac43</td>\n      <td>offer received</td>\n      <td>0</td>\n      <td>0b1e1539f2cc45b7b9fa7c272da2e1d7</td>\n      <td>NaN</td>\n      <td>NaN</td>\n      <td>NaN</td>\n      <td>0.0</td>\n      <td>NaN</td>\n      <td>3.0</td>\n      <td>240.0</td>\n    </tr>\n    <tr>\n      <th>17548</th>\n      <td>a03223e636434f42ac4c3df47e8bac43</td>\n      <td>offer viewed</td>\n      <td>6</td>\n      <td>0b1e1539f2cc45b7b9fa7c272da2e1d7</td>\n      <td>NaN</td>\n      <td>NaN</td>\n      <td>NaN</td>\n      <td>NaN</td>\n      <td>6.0</td>\n      <td>3.0</td>\n      <td>240.0</td>\n    </tr>\n    <tr>\n      <th>23117</th>\n      <td>a03223e636434f42ac4c3df47e8bac43</td>\n      <td>offer received</td>\n      <td>504</td>\n      <td>0b1e1539f2cc45b7b9fa7c272da2e1d7</td>\n      <td>NaN</td>\n      <td>NaN</td>\n      <td>NaN</td>\n      <td>504.0</td>\n      <td>NaN</td>\n      <td>3.0</td>\n      <td>240.0</td>\n    </tr>\n    <tr>\n      <th>24742</th>\n      <td>a03223e636434f42ac4c3df47e8bac43</td>\n      <td>offer received</td>\n      <td>576</td>\n      <td>0b1e1539f2cc45b7b9fa7c272da2e1d7</td>\n      <td>NaN</td>\n      <td>NaN</td>\n      <td>NaN</td>\n      <td>576.0</td>\n      <td>NaN</td>\n      <td>3.0</td>\n      <td>240.0</td>\n    </tr>\n    <tr>\n      <th>26327</th>\n      <td>a03223e636434f42ac4c3df47e8bac43</td>\n      <td>offer viewed</td>\n      <td>624</td>\n      <td>0b1e1539f2cc45b7b9fa7c272da2e1d7</td>\n      <td>NaN</td>\n      <td>NaN</td>\n      <td>NaN</td>\n      <td>NaN</td>\n      <td>624.0</td>\n      <td>3.0</td>\n      <td>240.0</td>\n    </tr>\n    <tr>\n      <th>127473</th>\n      <td>a03223e636434f42ac4c3df47e8bac43</td>\n      <td>offer received</td>\n      <td>336</td>\n      <td>3f207df678b143eea3cee63160fa8bed</td>\n      <td>NaN</td>\n      <td>NaN</td>\n      <td>NaN</td>\n      <td>336.0</td>\n      <td>NaN</td>\n      <td>2.0</td>\n      <td>96.0</td>\n    </tr>\n    <tr>\n      <th>128752</th>\n      <td>a03223e636434f42ac4c3df47e8bac43</td>\n      <td>offer viewed</td>\n      <td>336</td>\n      <td>3f207df678b143eea3cee63160fa8bed</td>\n      <td>NaN</td>\n      <td>NaN</td>\n      <td>NaN</td>\n      <td>NaN</td>\n      <td>336.0</td>\n      <td>2.0</td>\n      <td>96.0</td>\n    </tr>\n    <tr>\n      <th>160432</th>\n      <td>a03223e636434f42ac4c3df47e8bac43</td>\n      <td>offer received</td>\n      <td>408</td>\n      <td>5a8bc65990b245e5a138643cd4eb9837</td>\n      <td>NaN</td>\n      <td>NaN</td>\n      <td>NaN</td>\n      <td>408.0</td>\n      <td>NaN</td>\n      <td>2.0</td>\n      <td>72.0</td>\n    </tr>\n    <tr>\n      <th>198163</th>\n      <td>a03223e636434f42ac4c3df47e8bac43</td>\n      <td>NaN</td>\n      <td>234</td>\n      <td>no offer</td>\n      <td>NaN</td>\n      <td>1.09</td>\n      <td>NaN</td>\n      <td>NaN</td>\n      <td>NaN</td>\n      <td>NaN</td>\n      <td>NaN</td>\n    </tr>\n    <tr>\n      <th>202840</th>\n      <td>a03223e636434f42ac4c3df47e8bac43</td>\n      <td>NaN</td>\n      <td>264</td>\n      <td>no offer</td>\n      <td>NaN</td>\n      <td>3.50</td>\n      <td>NaN</td>\n      <td>NaN</td>\n      <td>NaN</td>\n      <td>NaN</td>\n      <td>NaN</td>\n    </tr>\n    <tr>\n      <th>257768</th>\n      <td>a03223e636434f42ac4c3df47e8bac43</td>\n      <td>NaN</td>\n      <td>612</td>\n      <td>no offer</td>\n      <td>NaN</td>\n      <td>0.06</td>\n      <td>NaN</td>\n      <td>NaN</td>\n      <td>NaN</td>\n      <td>NaN</td>\n      <td>NaN</td>\n    </tr>\n  </tbody>\n</table>\n</div>"
     },
     "metadata": {},
     "execution_count": 333
    }
   ],
   "source": [
    "user_1 = df[df['user id'] == '78afa995795e4d85b5d9ceeca43f5fef']\n",
    "user_2 = df[df['user id'] == 'a03223e636434f42ac4c3df47e8bac43']\n",
    "user_2"
   ]
  },
  {
   "cell_type": "code",
   "execution_count": 334,
   "metadata": {},
   "outputs": [
    {
     "output_type": "execute_result",
     "data": {
      "text/plain": "                                 user id            event  time  \\\n0       78afa995795e4d85b5d9ceeca43f5fef   offer received     0   \n1361    78afa995795e4d85b5d9ceeca43f5fef     offer viewed     6   \n12360   78afa995795e4d85b5d9ceeca43f5fef  offer completed   132   \n94026   78afa995795e4d85b5d9ceeca43f5fef   offer received   504   \n98092   78afa995795e4d85b5d9ceeca43f5fef     offer viewed   582   \n101819  78afa995795e4d85b5d9ceeca43f5fef  offer completed   510   \n142458  78afa995795e4d85b5d9ceeca43f5fef   offer received   408   \n143736  78afa995795e4d85b5d9ceeca43f5fef     offer viewed   408   \n151956  78afa995795e4d85b5d9ceeca43f5fef  offer completed   510   \n155716  78afa995795e4d85b5d9ceeca43f5fef   offer received   168   \n157886  78afa995795e4d85b5d9ceeca43f5fef     offer viewed   216   \n185890  78afa995795e4d85b5d9ceeca43f5fef              NaN   144   \n196140  78afa995795e4d85b5d9ceeca43f5fef              NaN   222   \n199147  78afa995795e4d85b5d9ceeca43f5fef              NaN   240   \n218582  78afa995795e4d85b5d9ceeca43f5fef              NaN   378   \n244755  78afa995795e4d85b5d9ceeca43f5fef              NaN   534   \n\n                                offer id  reward  amount  offer completed  \\\n0       9b98b8c7a33c4b65b9aebfe6a799e6d9     NaN     NaN              NaN   \n1361    9b98b8c7a33c4b65b9aebfe6a799e6d9     NaN     NaN              NaN   \n12360   9b98b8c7a33c4b65b9aebfe6a799e6d9     5.0   19.89            132.0   \n94026   f19421c1d4aa40978ebb69ca19b0e20d     NaN     NaN              NaN   \n98092   f19421c1d4aa40978ebb69ca19b0e20d     NaN     NaN              NaN   \n101819  f19421c1d4aa40978ebb69ca19b0e20d     5.0   21.72            510.0   \n142458  ae264e3637204a6fb9bb56bc8210ddfd     NaN     NaN              NaN   \n143736  ae264e3637204a6fb9bb56bc8210ddfd     NaN     NaN              NaN   \n151956  ae264e3637204a6fb9bb56bc8210ddfd    10.0   21.72            510.0   \n155716  5a8bc65990b245e5a138643cd4eb9837     NaN     NaN              NaN   \n157886  5a8bc65990b245e5a138643cd4eb9837     NaN     NaN              NaN   \n185890                          no offer     NaN   17.78              NaN   \n196140                          no offer     NaN   19.67              NaN   \n199147                          no offer     NaN   29.72              NaN   \n218582                          no offer     NaN   23.93              NaN   \n244755                          no offer     NaN   26.56              NaN   \n\n        offer received  offer viewed  offer type  duration  \n0                  0.0           NaN         1.0     168.0  \n1361               NaN           6.0         1.0     168.0  \n12360              NaN           NaN         1.0     168.0  \n94026            504.0           NaN         1.0     120.0  \n98092              NaN         582.0         1.0     120.0  \n101819             NaN           NaN         1.0     120.0  \n142458           408.0           NaN         1.0     168.0  \n143736             NaN         408.0         1.0     168.0  \n151956             NaN           NaN         1.0     168.0  \n155716           168.0           NaN         2.0      72.0  \n157886             NaN         216.0         2.0      72.0  \n185890             NaN           NaN         NaN       NaN  \n196140             NaN           NaN         NaN       NaN  \n199147             NaN           NaN         NaN       NaN  \n218582             NaN           NaN         NaN       NaN  \n244755             NaN           NaN         NaN       NaN  ",
      "text/html": "<div>\n<style scoped>\n    .dataframe tbody tr th:only-of-type {\n        vertical-align: middle;\n    }\n\n    .dataframe tbody tr th {\n        vertical-align: top;\n    }\n\n    .dataframe thead th {\n        text-align: right;\n    }\n</style>\n<table border=\"1\" class=\"dataframe\">\n  <thead>\n    <tr style=\"text-align: right;\">\n      <th></th>\n      <th>user id</th>\n      <th>event</th>\n      <th>time</th>\n      <th>offer id</th>\n      <th>reward</th>\n      <th>amount</th>\n      <th>offer completed</th>\n      <th>offer received</th>\n      <th>offer viewed</th>\n      <th>offer type</th>\n      <th>duration</th>\n    </tr>\n  </thead>\n  <tbody>\n    <tr>\n      <th>0</th>\n      <td>78afa995795e4d85b5d9ceeca43f5fef</td>\n      <td>offer received</td>\n      <td>0</td>\n      <td>9b98b8c7a33c4b65b9aebfe6a799e6d9</td>\n      <td>NaN</td>\n      <td>NaN</td>\n      <td>NaN</td>\n      <td>0.0</td>\n      <td>NaN</td>\n      <td>1.0</td>\n      <td>168.0</td>\n    </tr>\n    <tr>\n      <th>1361</th>\n      <td>78afa995795e4d85b5d9ceeca43f5fef</td>\n      <td>offer viewed</td>\n      <td>6</td>\n      <td>9b98b8c7a33c4b65b9aebfe6a799e6d9</td>\n      <td>NaN</td>\n      <td>NaN</td>\n      <td>NaN</td>\n      <td>NaN</td>\n      <td>6.0</td>\n      <td>1.0</td>\n      <td>168.0</td>\n    </tr>\n    <tr>\n      <th>12360</th>\n      <td>78afa995795e4d85b5d9ceeca43f5fef</td>\n      <td>offer completed</td>\n      <td>132</td>\n      <td>9b98b8c7a33c4b65b9aebfe6a799e6d9</td>\n      <td>5.0</td>\n      <td>19.89</td>\n      <td>132.0</td>\n      <td>NaN</td>\n      <td>NaN</td>\n      <td>1.0</td>\n      <td>168.0</td>\n    </tr>\n    <tr>\n      <th>94026</th>\n      <td>78afa995795e4d85b5d9ceeca43f5fef</td>\n      <td>offer received</td>\n      <td>504</td>\n      <td>f19421c1d4aa40978ebb69ca19b0e20d</td>\n      <td>NaN</td>\n      <td>NaN</td>\n      <td>NaN</td>\n      <td>504.0</td>\n      <td>NaN</td>\n      <td>1.0</td>\n      <td>120.0</td>\n    </tr>\n    <tr>\n      <th>98092</th>\n      <td>78afa995795e4d85b5d9ceeca43f5fef</td>\n      <td>offer viewed</td>\n      <td>582</td>\n      <td>f19421c1d4aa40978ebb69ca19b0e20d</td>\n      <td>NaN</td>\n      <td>NaN</td>\n      <td>NaN</td>\n      <td>NaN</td>\n      <td>582.0</td>\n      <td>1.0</td>\n      <td>120.0</td>\n    </tr>\n    <tr>\n      <th>101819</th>\n      <td>78afa995795e4d85b5d9ceeca43f5fef</td>\n      <td>offer completed</td>\n      <td>510</td>\n      <td>f19421c1d4aa40978ebb69ca19b0e20d</td>\n      <td>5.0</td>\n      <td>21.72</td>\n      <td>510.0</td>\n      <td>NaN</td>\n      <td>NaN</td>\n      <td>1.0</td>\n      <td>120.0</td>\n    </tr>\n    <tr>\n      <th>142458</th>\n      <td>78afa995795e4d85b5d9ceeca43f5fef</td>\n      <td>offer received</td>\n      <td>408</td>\n      <td>ae264e3637204a6fb9bb56bc8210ddfd</td>\n      <td>NaN</td>\n      <td>NaN</td>\n      <td>NaN</td>\n      <td>408.0</td>\n      <td>NaN</td>\n      <td>1.0</td>\n      <td>168.0</td>\n    </tr>\n    <tr>\n      <th>143736</th>\n      <td>78afa995795e4d85b5d9ceeca43f5fef</td>\n      <td>offer viewed</td>\n      <td>408</td>\n      <td>ae264e3637204a6fb9bb56bc8210ddfd</td>\n      <td>NaN</td>\n      <td>NaN</td>\n      <td>NaN</td>\n      <td>NaN</td>\n      <td>408.0</td>\n      <td>1.0</td>\n      <td>168.0</td>\n    </tr>\n    <tr>\n      <th>151956</th>\n      <td>78afa995795e4d85b5d9ceeca43f5fef</td>\n      <td>offer completed</td>\n      <td>510</td>\n      <td>ae264e3637204a6fb9bb56bc8210ddfd</td>\n      <td>10.0</td>\n      <td>21.72</td>\n      <td>510.0</td>\n      <td>NaN</td>\n      <td>NaN</td>\n      <td>1.0</td>\n      <td>168.0</td>\n    </tr>\n    <tr>\n      <th>155716</th>\n      <td>78afa995795e4d85b5d9ceeca43f5fef</td>\n      <td>offer received</td>\n      <td>168</td>\n      <td>5a8bc65990b245e5a138643cd4eb9837</td>\n      <td>NaN</td>\n      <td>NaN</td>\n      <td>NaN</td>\n      <td>168.0</td>\n      <td>NaN</td>\n      <td>2.0</td>\n      <td>72.0</td>\n    </tr>\n    <tr>\n      <th>157886</th>\n      <td>78afa995795e4d85b5d9ceeca43f5fef</td>\n      <td>offer viewed</td>\n      <td>216</td>\n      <td>5a8bc65990b245e5a138643cd4eb9837</td>\n      <td>NaN</td>\n      <td>NaN</td>\n      <td>NaN</td>\n      <td>NaN</td>\n      <td>216.0</td>\n      <td>2.0</td>\n      <td>72.0</td>\n    </tr>\n    <tr>\n      <th>185890</th>\n      <td>78afa995795e4d85b5d9ceeca43f5fef</td>\n      <td>NaN</td>\n      <td>144</td>\n      <td>no offer</td>\n      <td>NaN</td>\n      <td>17.78</td>\n      <td>NaN</td>\n      <td>NaN</td>\n      <td>NaN</td>\n      <td>NaN</td>\n      <td>NaN</td>\n    </tr>\n    <tr>\n      <th>196140</th>\n      <td>78afa995795e4d85b5d9ceeca43f5fef</td>\n      <td>NaN</td>\n      <td>222</td>\n      <td>no offer</td>\n      <td>NaN</td>\n      <td>19.67</td>\n      <td>NaN</td>\n      <td>NaN</td>\n      <td>NaN</td>\n      <td>NaN</td>\n      <td>NaN</td>\n    </tr>\n    <tr>\n      <th>199147</th>\n      <td>78afa995795e4d85b5d9ceeca43f5fef</td>\n      <td>NaN</td>\n      <td>240</td>\n      <td>no offer</td>\n      <td>NaN</td>\n      <td>29.72</td>\n      <td>NaN</td>\n      <td>NaN</td>\n      <td>NaN</td>\n      <td>NaN</td>\n      <td>NaN</td>\n    </tr>\n    <tr>\n      <th>218582</th>\n      <td>78afa995795e4d85b5d9ceeca43f5fef</td>\n      <td>NaN</td>\n      <td>378</td>\n      <td>no offer</td>\n      <td>NaN</td>\n      <td>23.93</td>\n      <td>NaN</td>\n      <td>NaN</td>\n      <td>NaN</td>\n      <td>NaN</td>\n      <td>NaN</td>\n    </tr>\n    <tr>\n      <th>244755</th>\n      <td>78afa995795e4d85b5d9ceeca43f5fef</td>\n      <td>NaN</td>\n      <td>534</td>\n      <td>no offer</td>\n      <td>NaN</td>\n      <td>26.56</td>\n      <td>NaN</td>\n      <td>NaN</td>\n      <td>NaN</td>\n      <td>NaN</td>\n      <td>NaN</td>\n    </tr>\n  </tbody>\n</table>\n</div>"
     },
     "metadata": {},
     "execution_count": 334
    }
   ],
   "source": [
    "user_1"
   ]
  },
  {
   "cell_type": "code",
   "execution_count": 338,
   "metadata": {},
   "outputs": [],
   "source": [
    "def fill_amount(df):\n",
    "\n",
    "    dict_values = {}\n",
    "    index_lst = []\n",
    "\n",
    "    a = df.loc[(df['event'] == 'offer viewed') & (df['offer type'] == 2)]\n",
    "\n",
    "    for i in range(a.shape[0]):   \n",
    "        b = df.loc[(df['time'] >= a['time'].values[i]) & (df['time'] <= (a['time'].values[i] + a['duration'].values[i])) & (df['offer id'] == 'no offer')]\n",
    "        if (b.shape[0] != 0):\n",
    "            index_lst.append(b.index[0])\n",
    "            c = b['amount'].to_list()[0]\n",
    "            dict_values.update({a.index.to_list()[i]: c})\n",
    "        else:\n",
    "            dict_values.update({a.index.to_list()[i]: np.nan})\n",
    "\n",
    "    df[\"amount\"].fillna(dict_values, inplace=True)\n",
    "    df.drop(index=index_lst, axis=0 , inplace=True)\n",
    "\n",
    "    return df"
   ]
  },
  {
   "cell_type": "code",
   "execution_count": 339,
   "metadata": {},
   "outputs": [
    {
     "output_type": "execute_result",
     "data": {
      "text/plain": "                                 user id            event  time  \\\n0       78afa995795e4d85b5d9ceeca43f5fef   offer received     0   \n1361    78afa995795e4d85b5d9ceeca43f5fef     offer viewed     6   \n12360   78afa995795e4d85b5d9ceeca43f5fef  offer completed   132   \n94026   78afa995795e4d85b5d9ceeca43f5fef   offer received   504   \n98092   78afa995795e4d85b5d9ceeca43f5fef     offer viewed   582   \n101819  78afa995795e4d85b5d9ceeca43f5fef  offer completed   510   \n142458  78afa995795e4d85b5d9ceeca43f5fef   offer received   408   \n143736  78afa995795e4d85b5d9ceeca43f5fef     offer viewed   408   \n151956  78afa995795e4d85b5d9ceeca43f5fef  offer completed   510   \n155716  78afa995795e4d85b5d9ceeca43f5fef   offer received   168   \n157886  78afa995795e4d85b5d9ceeca43f5fef     offer viewed   216   \n185890  78afa995795e4d85b5d9ceeca43f5fef              NaN   144   \n199147  78afa995795e4d85b5d9ceeca43f5fef              NaN   240   \n218582  78afa995795e4d85b5d9ceeca43f5fef              NaN   378   \n244755  78afa995795e4d85b5d9ceeca43f5fef              NaN   534   \n\n                                offer id  reward  amount  offer completed  \\\n0       9b98b8c7a33c4b65b9aebfe6a799e6d9     NaN     NaN              NaN   \n1361    9b98b8c7a33c4b65b9aebfe6a799e6d9     NaN     NaN              NaN   \n12360   9b98b8c7a33c4b65b9aebfe6a799e6d9     5.0   19.89            132.0   \n94026   f19421c1d4aa40978ebb69ca19b0e20d     NaN     NaN              NaN   \n98092   f19421c1d4aa40978ebb69ca19b0e20d     NaN     NaN              NaN   \n101819  f19421c1d4aa40978ebb69ca19b0e20d     5.0   21.72            510.0   \n142458  ae264e3637204a6fb9bb56bc8210ddfd     NaN     NaN              NaN   \n143736  ae264e3637204a6fb9bb56bc8210ddfd     NaN     NaN              NaN   \n151956  ae264e3637204a6fb9bb56bc8210ddfd    10.0   21.72            510.0   \n155716  5a8bc65990b245e5a138643cd4eb9837     NaN     NaN              NaN   \n157886  5a8bc65990b245e5a138643cd4eb9837     NaN   19.67              NaN   \n185890                          no offer     NaN   17.78              NaN   \n199147                          no offer     NaN   29.72              NaN   \n218582                          no offer     NaN   23.93              NaN   \n244755                          no offer     NaN   26.56              NaN   \n\n        offer received  offer viewed  offer type  duration  \n0                  0.0           NaN         1.0     168.0  \n1361               NaN           6.0         1.0     168.0  \n12360              NaN           NaN         1.0     168.0  \n94026            504.0           NaN         1.0     120.0  \n98092              NaN         582.0         1.0     120.0  \n101819             NaN           NaN         1.0     120.0  \n142458           408.0           NaN         1.0     168.0  \n143736             NaN         408.0         1.0     168.0  \n151956             NaN           NaN         1.0     168.0  \n155716           168.0           NaN         2.0      72.0  \n157886             NaN         216.0         2.0      72.0  \n185890             NaN           NaN         NaN       NaN  \n199147             NaN           NaN         NaN       NaN  \n218582             NaN           NaN         NaN       NaN  \n244755             NaN           NaN         NaN       NaN  ",
      "text/html": "<div>\n<style scoped>\n    .dataframe tbody tr th:only-of-type {\n        vertical-align: middle;\n    }\n\n    .dataframe tbody tr th {\n        vertical-align: top;\n    }\n\n    .dataframe thead th {\n        text-align: right;\n    }\n</style>\n<table border=\"1\" class=\"dataframe\">\n  <thead>\n    <tr style=\"text-align: right;\">\n      <th></th>\n      <th>user id</th>\n      <th>event</th>\n      <th>time</th>\n      <th>offer id</th>\n      <th>reward</th>\n      <th>amount</th>\n      <th>offer completed</th>\n      <th>offer received</th>\n      <th>offer viewed</th>\n      <th>offer type</th>\n      <th>duration</th>\n    </tr>\n  </thead>\n  <tbody>\n    <tr>\n      <th>0</th>\n      <td>78afa995795e4d85b5d9ceeca43f5fef</td>\n      <td>offer received</td>\n      <td>0</td>\n      <td>9b98b8c7a33c4b65b9aebfe6a799e6d9</td>\n      <td>NaN</td>\n      <td>NaN</td>\n      <td>NaN</td>\n      <td>0.0</td>\n      <td>NaN</td>\n      <td>1.0</td>\n      <td>168.0</td>\n    </tr>\n    <tr>\n      <th>1361</th>\n      <td>78afa995795e4d85b5d9ceeca43f5fef</td>\n      <td>offer viewed</td>\n      <td>6</td>\n      <td>9b98b8c7a33c4b65b9aebfe6a799e6d9</td>\n      <td>NaN</td>\n      <td>NaN</td>\n      <td>NaN</td>\n      <td>NaN</td>\n      <td>6.0</td>\n      <td>1.0</td>\n      <td>168.0</td>\n    </tr>\n    <tr>\n      <th>12360</th>\n      <td>78afa995795e4d85b5d9ceeca43f5fef</td>\n      <td>offer completed</td>\n      <td>132</td>\n      <td>9b98b8c7a33c4b65b9aebfe6a799e6d9</td>\n      <td>5.0</td>\n      <td>19.89</td>\n      <td>132.0</td>\n      <td>NaN</td>\n      <td>NaN</td>\n      <td>1.0</td>\n      <td>168.0</td>\n    </tr>\n    <tr>\n      <th>94026</th>\n      <td>78afa995795e4d85b5d9ceeca43f5fef</td>\n      <td>offer received</td>\n      <td>504</td>\n      <td>f19421c1d4aa40978ebb69ca19b0e20d</td>\n      <td>NaN</td>\n      <td>NaN</td>\n      <td>NaN</td>\n      <td>504.0</td>\n      <td>NaN</td>\n      <td>1.0</td>\n      <td>120.0</td>\n    </tr>\n    <tr>\n      <th>98092</th>\n      <td>78afa995795e4d85b5d9ceeca43f5fef</td>\n      <td>offer viewed</td>\n      <td>582</td>\n      <td>f19421c1d4aa40978ebb69ca19b0e20d</td>\n      <td>NaN</td>\n      <td>NaN</td>\n      <td>NaN</td>\n      <td>NaN</td>\n      <td>582.0</td>\n      <td>1.0</td>\n      <td>120.0</td>\n    </tr>\n    <tr>\n      <th>101819</th>\n      <td>78afa995795e4d85b5d9ceeca43f5fef</td>\n      <td>offer completed</td>\n      <td>510</td>\n      <td>f19421c1d4aa40978ebb69ca19b0e20d</td>\n      <td>5.0</td>\n      <td>21.72</td>\n      <td>510.0</td>\n      <td>NaN</td>\n      <td>NaN</td>\n      <td>1.0</td>\n      <td>120.0</td>\n    </tr>\n    <tr>\n      <th>142458</th>\n      <td>78afa995795e4d85b5d9ceeca43f5fef</td>\n      <td>offer received</td>\n      <td>408</td>\n      <td>ae264e3637204a6fb9bb56bc8210ddfd</td>\n      <td>NaN</td>\n      <td>NaN</td>\n      <td>NaN</td>\n      <td>408.0</td>\n      <td>NaN</td>\n      <td>1.0</td>\n      <td>168.0</td>\n    </tr>\n    <tr>\n      <th>143736</th>\n      <td>78afa995795e4d85b5d9ceeca43f5fef</td>\n      <td>offer viewed</td>\n      <td>408</td>\n      <td>ae264e3637204a6fb9bb56bc8210ddfd</td>\n      <td>NaN</td>\n      <td>NaN</td>\n      <td>NaN</td>\n      <td>NaN</td>\n      <td>408.0</td>\n      <td>1.0</td>\n      <td>168.0</td>\n    </tr>\n    <tr>\n      <th>151956</th>\n      <td>78afa995795e4d85b5d9ceeca43f5fef</td>\n      <td>offer completed</td>\n      <td>510</td>\n      <td>ae264e3637204a6fb9bb56bc8210ddfd</td>\n      <td>10.0</td>\n      <td>21.72</td>\n      <td>510.0</td>\n      <td>NaN</td>\n      <td>NaN</td>\n      <td>1.0</td>\n      <td>168.0</td>\n    </tr>\n    <tr>\n      <th>155716</th>\n      <td>78afa995795e4d85b5d9ceeca43f5fef</td>\n      <td>offer received</td>\n      <td>168</td>\n      <td>5a8bc65990b245e5a138643cd4eb9837</td>\n      <td>NaN</td>\n      <td>NaN</td>\n      <td>NaN</td>\n      <td>168.0</td>\n      <td>NaN</td>\n      <td>2.0</td>\n      <td>72.0</td>\n    </tr>\n    <tr>\n      <th>157886</th>\n      <td>78afa995795e4d85b5d9ceeca43f5fef</td>\n      <td>offer viewed</td>\n      <td>216</td>\n      <td>5a8bc65990b245e5a138643cd4eb9837</td>\n      <td>NaN</td>\n      <td>19.67</td>\n      <td>NaN</td>\n      <td>NaN</td>\n      <td>216.0</td>\n      <td>2.0</td>\n      <td>72.0</td>\n    </tr>\n    <tr>\n      <th>185890</th>\n      <td>78afa995795e4d85b5d9ceeca43f5fef</td>\n      <td>NaN</td>\n      <td>144</td>\n      <td>no offer</td>\n      <td>NaN</td>\n      <td>17.78</td>\n      <td>NaN</td>\n      <td>NaN</td>\n      <td>NaN</td>\n      <td>NaN</td>\n      <td>NaN</td>\n    </tr>\n    <tr>\n      <th>199147</th>\n      <td>78afa995795e4d85b5d9ceeca43f5fef</td>\n      <td>NaN</td>\n      <td>240</td>\n      <td>no offer</td>\n      <td>NaN</td>\n      <td>29.72</td>\n      <td>NaN</td>\n      <td>NaN</td>\n      <td>NaN</td>\n      <td>NaN</td>\n      <td>NaN</td>\n    </tr>\n    <tr>\n      <th>218582</th>\n      <td>78afa995795e4d85b5d9ceeca43f5fef</td>\n      <td>NaN</td>\n      <td>378</td>\n      <td>no offer</td>\n      <td>NaN</td>\n      <td>23.93</td>\n      <td>NaN</td>\n      <td>NaN</td>\n      <td>NaN</td>\n      <td>NaN</td>\n      <td>NaN</td>\n    </tr>\n    <tr>\n      <th>244755</th>\n      <td>78afa995795e4d85b5d9ceeca43f5fef</td>\n      <td>NaN</td>\n      <td>534</td>\n      <td>no offer</td>\n      <td>NaN</td>\n      <td>26.56</td>\n      <td>NaN</td>\n      <td>NaN</td>\n      <td>NaN</td>\n      <td>NaN</td>\n      <td>NaN</td>\n    </tr>\n  </tbody>\n</table>\n</div>"
     },
     "metadata": {},
     "execution_count": 339
    }
   ],
   "source": [
    "user_1 = fill_amount(user_1)\n",
    "user_2 = fill_amount(user_2)\n",
    "user_1"
   ]
  },
  {
   "cell_type": "code",
   "execution_count": 336,
   "metadata": {},
   "outputs": [
    {
     "output_type": "execute_result",
     "data": {
      "text/plain": "                                 user id           event  time  \\\n16202   a03223e636434f42ac4c3df47e8bac43  offer received     0   \n17548   a03223e636434f42ac4c3df47e8bac43    offer viewed     6   \n23117   a03223e636434f42ac4c3df47e8bac43  offer received   504   \n24742   a03223e636434f42ac4c3df47e8bac43  offer received   576   \n26327   a03223e636434f42ac4c3df47e8bac43    offer viewed   624   \n127473  a03223e636434f42ac4c3df47e8bac43  offer received   336   \n128752  a03223e636434f42ac4c3df47e8bac43    offer viewed   336   \n160432  a03223e636434f42ac4c3df47e8bac43  offer received   408   \n198163  a03223e636434f42ac4c3df47e8bac43             NaN   234   \n202840  a03223e636434f42ac4c3df47e8bac43             NaN   264   \n257768  a03223e636434f42ac4c3df47e8bac43             NaN   612   \n\n                                offer id  reward  amount  offer completed  \\\n16202   0b1e1539f2cc45b7b9fa7c272da2e1d7     NaN     NaN              NaN   \n17548   0b1e1539f2cc45b7b9fa7c272da2e1d7     NaN     NaN              NaN   \n23117   0b1e1539f2cc45b7b9fa7c272da2e1d7     NaN     NaN              NaN   \n24742   0b1e1539f2cc45b7b9fa7c272da2e1d7     NaN     NaN              NaN   \n26327   0b1e1539f2cc45b7b9fa7c272da2e1d7     NaN     NaN              NaN   \n127473  3f207df678b143eea3cee63160fa8bed     NaN     NaN              NaN   \n128752  3f207df678b143eea3cee63160fa8bed     NaN     NaN              NaN   \n160432  5a8bc65990b245e5a138643cd4eb9837     NaN     NaN              NaN   \n198163                          no offer     NaN    1.09              NaN   \n202840                          no offer     NaN    3.50              NaN   \n257768                          no offer     NaN    0.06              NaN   \n\n        offer received  offer viewed  offer type  duration  \n16202              0.0           NaN         3.0     240.0  \n17548              NaN           6.0         3.0     240.0  \n23117            504.0           NaN         3.0     240.0  \n24742            576.0           NaN         3.0     240.0  \n26327              NaN         624.0         3.0     240.0  \n127473           336.0           NaN         2.0      96.0  \n128752             NaN         336.0         2.0      96.0  \n160432           408.0           NaN         2.0      72.0  \n198163             NaN           NaN         NaN       NaN  \n202840             NaN           NaN         NaN       NaN  \n257768             NaN           NaN         NaN       NaN  ",
      "text/html": "<div>\n<style scoped>\n    .dataframe tbody tr th:only-of-type {\n        vertical-align: middle;\n    }\n\n    .dataframe tbody tr th {\n        vertical-align: top;\n    }\n\n    .dataframe thead th {\n        text-align: right;\n    }\n</style>\n<table border=\"1\" class=\"dataframe\">\n  <thead>\n    <tr style=\"text-align: right;\">\n      <th></th>\n      <th>user id</th>\n      <th>event</th>\n      <th>time</th>\n      <th>offer id</th>\n      <th>reward</th>\n      <th>amount</th>\n      <th>offer completed</th>\n      <th>offer received</th>\n      <th>offer viewed</th>\n      <th>offer type</th>\n      <th>duration</th>\n    </tr>\n  </thead>\n  <tbody>\n    <tr>\n      <th>16202</th>\n      <td>a03223e636434f42ac4c3df47e8bac43</td>\n      <td>offer received</td>\n      <td>0</td>\n      <td>0b1e1539f2cc45b7b9fa7c272da2e1d7</td>\n      <td>NaN</td>\n      <td>NaN</td>\n      <td>NaN</td>\n      <td>0.0</td>\n      <td>NaN</td>\n      <td>3.0</td>\n      <td>240.0</td>\n    </tr>\n    <tr>\n      <th>17548</th>\n      <td>a03223e636434f42ac4c3df47e8bac43</td>\n      <td>offer viewed</td>\n      <td>6</td>\n      <td>0b1e1539f2cc45b7b9fa7c272da2e1d7</td>\n      <td>NaN</td>\n      <td>NaN</td>\n      <td>NaN</td>\n      <td>NaN</td>\n      <td>6.0</td>\n      <td>3.0</td>\n      <td>240.0</td>\n    </tr>\n    <tr>\n      <th>23117</th>\n      <td>a03223e636434f42ac4c3df47e8bac43</td>\n      <td>offer received</td>\n      <td>504</td>\n      <td>0b1e1539f2cc45b7b9fa7c272da2e1d7</td>\n      <td>NaN</td>\n      <td>NaN</td>\n      <td>NaN</td>\n      <td>504.0</td>\n      <td>NaN</td>\n      <td>3.0</td>\n      <td>240.0</td>\n    </tr>\n    <tr>\n      <th>24742</th>\n      <td>a03223e636434f42ac4c3df47e8bac43</td>\n      <td>offer received</td>\n      <td>576</td>\n      <td>0b1e1539f2cc45b7b9fa7c272da2e1d7</td>\n      <td>NaN</td>\n      <td>NaN</td>\n      <td>NaN</td>\n      <td>576.0</td>\n      <td>NaN</td>\n      <td>3.0</td>\n      <td>240.0</td>\n    </tr>\n    <tr>\n      <th>26327</th>\n      <td>a03223e636434f42ac4c3df47e8bac43</td>\n      <td>offer viewed</td>\n      <td>624</td>\n      <td>0b1e1539f2cc45b7b9fa7c272da2e1d7</td>\n      <td>NaN</td>\n      <td>NaN</td>\n      <td>NaN</td>\n      <td>NaN</td>\n      <td>624.0</td>\n      <td>3.0</td>\n      <td>240.0</td>\n    </tr>\n    <tr>\n      <th>127473</th>\n      <td>a03223e636434f42ac4c3df47e8bac43</td>\n      <td>offer received</td>\n      <td>336</td>\n      <td>3f207df678b143eea3cee63160fa8bed</td>\n      <td>NaN</td>\n      <td>NaN</td>\n      <td>NaN</td>\n      <td>336.0</td>\n      <td>NaN</td>\n      <td>2.0</td>\n      <td>96.0</td>\n    </tr>\n    <tr>\n      <th>128752</th>\n      <td>a03223e636434f42ac4c3df47e8bac43</td>\n      <td>offer viewed</td>\n      <td>336</td>\n      <td>3f207df678b143eea3cee63160fa8bed</td>\n      <td>NaN</td>\n      <td>NaN</td>\n      <td>NaN</td>\n      <td>NaN</td>\n      <td>336.0</td>\n      <td>2.0</td>\n      <td>96.0</td>\n    </tr>\n    <tr>\n      <th>160432</th>\n      <td>a03223e636434f42ac4c3df47e8bac43</td>\n      <td>offer received</td>\n      <td>408</td>\n      <td>5a8bc65990b245e5a138643cd4eb9837</td>\n      <td>NaN</td>\n      <td>NaN</td>\n      <td>NaN</td>\n      <td>408.0</td>\n      <td>NaN</td>\n      <td>2.0</td>\n      <td>72.0</td>\n    </tr>\n    <tr>\n      <th>198163</th>\n      <td>a03223e636434f42ac4c3df47e8bac43</td>\n      <td>NaN</td>\n      <td>234</td>\n      <td>no offer</td>\n      <td>NaN</td>\n      <td>1.09</td>\n      <td>NaN</td>\n      <td>NaN</td>\n      <td>NaN</td>\n      <td>NaN</td>\n      <td>NaN</td>\n    </tr>\n    <tr>\n      <th>202840</th>\n      <td>a03223e636434f42ac4c3df47e8bac43</td>\n      <td>NaN</td>\n      <td>264</td>\n      <td>no offer</td>\n      <td>NaN</td>\n      <td>3.50</td>\n      <td>NaN</td>\n      <td>NaN</td>\n      <td>NaN</td>\n      <td>NaN</td>\n      <td>NaN</td>\n    </tr>\n    <tr>\n      <th>257768</th>\n      <td>a03223e636434f42ac4c3df47e8bac43</td>\n      <td>NaN</td>\n      <td>612</td>\n      <td>no offer</td>\n      <td>NaN</td>\n      <td>0.06</td>\n      <td>NaN</td>\n      <td>NaN</td>\n      <td>NaN</td>\n      <td>NaN</td>\n      <td>NaN</td>\n    </tr>\n  </tbody>\n</table>\n</div>"
     },
     "metadata": {},
     "execution_count": 336
    }
   ],
   "source": [
    "user_2"
   ]
  },
  {
   "cell_type": "code",
   "execution_count": 330,
   "metadata": {},
   "outputs": [
    {
     "output_type": "execute_result",
     "data": {
      "text/plain": "  user id event   time                          offer id  reward  amount  \\\n0     NaN   NaN   46.0  9b98b8c7a33c4b65b9aebfe6a799e6d9     5.0  19.890   \n1     NaN   NaN  532.0  f19421c1d4aa40978ebb69ca19b0e20d     5.0  21.720   \n2     NaN   NaN  442.0  ae264e3637204a6fb9bb56bc8210ddfd    10.0  21.720   \n3     NaN   NaN  192.0  5a8bc65990b245e5a138643cd4eb9837     NaN     NaN   \n4     NaN   NaN  303.6                          no offer     NaN  23.532   \n\n   offer completed  offer received  offer viewed  offer type  duration  \n0            132.0             0.0           6.0         1.0     168.0  \n1            510.0           504.0         582.0         1.0     120.0  \n2            510.0           408.0         408.0         1.0     168.0  \n3              NaN           168.0         216.0         2.0      72.0  \n4              NaN             NaN           NaN         NaN       NaN  ",
      "text/html": "<div>\n<style scoped>\n    .dataframe tbody tr th:only-of-type {\n        vertical-align: middle;\n    }\n\n    .dataframe tbody tr th {\n        vertical-align: top;\n    }\n\n    .dataframe thead th {\n        text-align: right;\n    }\n</style>\n<table border=\"1\" class=\"dataframe\">\n  <thead>\n    <tr style=\"text-align: right;\">\n      <th></th>\n      <th>user id</th>\n      <th>event</th>\n      <th>time</th>\n      <th>offer id</th>\n      <th>reward</th>\n      <th>amount</th>\n      <th>offer completed</th>\n      <th>offer received</th>\n      <th>offer viewed</th>\n      <th>offer type</th>\n      <th>duration</th>\n    </tr>\n  </thead>\n  <tbody>\n    <tr>\n      <th>0</th>\n      <td>NaN</td>\n      <td>NaN</td>\n      <td>46.0</td>\n      <td>9b98b8c7a33c4b65b9aebfe6a799e6d9</td>\n      <td>5.0</td>\n      <td>19.890</td>\n      <td>132.0</td>\n      <td>0.0</td>\n      <td>6.0</td>\n      <td>1.0</td>\n      <td>168.0</td>\n    </tr>\n    <tr>\n      <th>1</th>\n      <td>NaN</td>\n      <td>NaN</td>\n      <td>532.0</td>\n      <td>f19421c1d4aa40978ebb69ca19b0e20d</td>\n      <td>5.0</td>\n      <td>21.720</td>\n      <td>510.0</td>\n      <td>504.0</td>\n      <td>582.0</td>\n      <td>1.0</td>\n      <td>120.0</td>\n    </tr>\n    <tr>\n      <th>2</th>\n      <td>NaN</td>\n      <td>NaN</td>\n      <td>442.0</td>\n      <td>ae264e3637204a6fb9bb56bc8210ddfd</td>\n      <td>10.0</td>\n      <td>21.720</td>\n      <td>510.0</td>\n      <td>408.0</td>\n      <td>408.0</td>\n      <td>1.0</td>\n      <td>168.0</td>\n    </tr>\n    <tr>\n      <th>3</th>\n      <td>NaN</td>\n      <td>NaN</td>\n      <td>192.0</td>\n      <td>5a8bc65990b245e5a138643cd4eb9837</td>\n      <td>NaN</td>\n      <td>NaN</td>\n      <td>NaN</td>\n      <td>168.0</td>\n      <td>216.0</td>\n      <td>2.0</td>\n      <td>72.0</td>\n    </tr>\n    <tr>\n      <th>4</th>\n      <td>NaN</td>\n      <td>NaN</td>\n      <td>303.6</td>\n      <td>no offer</td>\n      <td>NaN</td>\n      <td>23.532</td>\n      <td>NaN</td>\n      <td>NaN</td>\n      <td>NaN</td>\n      <td>NaN</td>\n      <td>NaN</td>\n    </tr>\n  </tbody>\n</table>\n</div>"
     },
     "metadata": {},
     "execution_count": 330
    }
   ],
   "source": [
    "offers_received_lst = df['offer id'].unique().tolist()\n",
    "temp_df = user_1.head(0)\n",
    "\n",
    "for offer in offers_received_lst:\n",
    "    \n",
    "    #create data frame of an offer\n",
    "    offer_df = user_1[user_1['offer id'] == offer].copy()\n",
    "    \n",
    "    # check if the same offer has been receved more than one time if so, create flags to treat each offer independently.\n",
    "    if offer_df['offer received'].count() > 1:\n",
    "        cter = 0\n",
    "        flag = []\n",
    "        \n",
    "        #create list to flag each offer            \n",
    "        for index, row in offer_df.iterrows():\n",
    "            if not np.isnan(row['offer received']):\n",
    "                cter+=1\n",
    "                flag.append(cter)\n",
    "                \n",
    "            else:\n",
    "                flag.append(cter)\n",
    "                \n",
    "        offer_df['flag'] = flag \n",
    "        offer_df = offer_df.groupby(['flag' , 'offer id']).mean().reset_index()#.drop(columns='flag')\n",
    "\n",
    "    else:\n",
    "        offer_df = offer_df.groupby('offer id').mean().reset_index()\n",
    "\n",
    "    temp_df = temp_df.append(offer_df , sort=False)\n",
    "\n",
    "temp_df = temp_df.reset_index()\n",
    "temp_df = temp_df.drop(columns=['index'])\n",
    "\n",
    "temp_df\n"
   ]
  },
  {
   "cell_type": "code",
   "execution_count": 212,
   "metadata": {},
   "outputs": [
    {
     "output_type": "execute_result",
     "data": {
      "text/plain": "  event  time                          offer id  reward  amount  \\\n0   NaN     3  0b1e1539f2cc45b7b9fa7c272da2e1d7     NaN     NaN   \n1   NaN   504  0b1e1539f2cc45b7b9fa7c272da2e1d7     NaN     NaN   \n2   NaN   600  0b1e1539f2cc45b7b9fa7c272da2e1d7     NaN     NaN   \n0   NaN   336  3f207df678b143eea3cee63160fa8bed     NaN     NaN   \n0   NaN   408  5a8bc65990b245e5a138643cd4eb9837     NaN     NaN   \n0   NaN   370                          no offer     NaN    1.55   \n\n   offer completed  offer received  offer viewed offer type  duration  flag  \n0              NaN             0.0           6.0        NaN     240.0   1.0  \n1              NaN           504.0           NaN        NaN     240.0   2.0  \n2              NaN           576.0         624.0        NaN     240.0   3.0  \n0              NaN           336.0         336.0        NaN      96.0   NaN  \n0              NaN           408.0           NaN        NaN      72.0   NaN  \n0              NaN             NaN           NaN        NaN       NaN   NaN  ",
      "text/html": "<div>\n<style scoped>\n    .dataframe tbody tr th:only-of-type {\n        vertical-align: middle;\n    }\n\n    .dataframe tbody tr th {\n        vertical-align: top;\n    }\n\n    .dataframe thead th {\n        text-align: right;\n    }\n</style>\n<table border=\"1\" class=\"dataframe\">\n  <thead>\n    <tr style=\"text-align: right;\">\n      <th></th>\n      <th>event</th>\n      <th>time</th>\n      <th>offer id</th>\n      <th>reward</th>\n      <th>amount</th>\n      <th>offer completed</th>\n      <th>offer received</th>\n      <th>offer viewed</th>\n      <th>offer type</th>\n      <th>duration</th>\n      <th>flag</th>\n    </tr>\n  </thead>\n  <tbody>\n    <tr>\n      <th>0</th>\n      <td>NaN</td>\n      <td>3</td>\n      <td>0b1e1539f2cc45b7b9fa7c272da2e1d7</td>\n      <td>NaN</td>\n      <td>NaN</td>\n      <td>NaN</td>\n      <td>0.0</td>\n      <td>6.0</td>\n      <td>NaN</td>\n      <td>240.0</td>\n      <td>1.0</td>\n    </tr>\n    <tr>\n      <th>1</th>\n      <td>NaN</td>\n      <td>504</td>\n      <td>0b1e1539f2cc45b7b9fa7c272da2e1d7</td>\n      <td>NaN</td>\n      <td>NaN</td>\n      <td>NaN</td>\n      <td>504.0</td>\n      <td>NaN</td>\n      <td>NaN</td>\n      <td>240.0</td>\n      <td>2.0</td>\n    </tr>\n    <tr>\n      <th>2</th>\n      <td>NaN</td>\n      <td>600</td>\n      <td>0b1e1539f2cc45b7b9fa7c272da2e1d7</td>\n      <td>NaN</td>\n      <td>NaN</td>\n      <td>NaN</td>\n      <td>576.0</td>\n      <td>624.0</td>\n      <td>NaN</td>\n      <td>240.0</td>\n      <td>3.0</td>\n    </tr>\n    <tr>\n      <th>0</th>\n      <td>NaN</td>\n      <td>336</td>\n      <td>3f207df678b143eea3cee63160fa8bed</td>\n      <td>NaN</td>\n      <td>NaN</td>\n      <td>NaN</td>\n      <td>336.0</td>\n      <td>336.0</td>\n      <td>NaN</td>\n      <td>96.0</td>\n      <td>NaN</td>\n    </tr>\n    <tr>\n      <th>0</th>\n      <td>NaN</td>\n      <td>408</td>\n      <td>5a8bc65990b245e5a138643cd4eb9837</td>\n      <td>NaN</td>\n      <td>NaN</td>\n      <td>NaN</td>\n      <td>408.0</td>\n      <td>NaN</td>\n      <td>NaN</td>\n      <td>72.0</td>\n      <td>NaN</td>\n    </tr>\n    <tr>\n      <th>0</th>\n      <td>NaN</td>\n      <td>370</td>\n      <td>no offer</td>\n      <td>NaN</td>\n      <td>1.55</td>\n      <td>NaN</td>\n      <td>NaN</td>\n      <td>NaN</td>\n      <td>NaN</td>\n      <td>NaN</td>\n      <td>NaN</td>\n    </tr>\n  </tbody>\n</table>\n</div>"
     },
     "metadata": {},
     "execution_count": 212
    }
   ],
   "source": [
    "temp_df = user_2.head(0)\n",
    "\n",
    "for offer in offers_received_lst:\n",
    "    \n",
    "    #create data frame of an offer\n",
    "    offer_df = user_2[user_2['offer id'] == offer].copy()\n",
    "    \n",
    "    # check if the same offer has been receved more than one time if so, create flags to treat each offer independently.\n",
    "    if offer_df['offer received'].count() > 1:\n",
    "        cter = 0\n",
    "        flag = []\n",
    "        \n",
    "        #create list to flag each offer            \n",
    "        for index, row in offer_df.iterrows():\n",
    "            if not np.isnan(row['offer received']):\n",
    "                cter+=1\n",
    "                flag.append(cter)\n",
    "                \n",
    "            else:\n",
    "                flag.append(cter)\n",
    "                \n",
    "        offer_df['flag'] = flag \n",
    "        offer_df = offer_df.groupby(['flag' , 'offer id']).mean().reset_index()#.drop(columns='flag')\n",
    "\n",
    "    else:\n",
    "        offer_df = offer_df.groupby('offer id').mean().reset_index()\n",
    "\n",
    "    temp_df = temp_df.append(offer_df , sort=False)\n",
    "\n",
    "temp_df = temp_df.drop(columns='user id')\n",
    "\n",
    "temp_df"
   ]
  }
 ],
 "metadata": {
  "kernelspec": {
   "display_name": "Python 3.7.7 64-bit ('venv')",
   "language": "python",
   "name": "python37764bitvenvf7323f51036b43e7a745900362034ad3"
  },
  "language_info": {
   "codemirror_mode": {
    "name": "ipython",
    "version": 3
   },
   "file_extension": ".py",
   "mimetype": "text/x-python",
   "name": "python",
   "nbconvert_exporter": "python",
   "pygments_lexer": "ipython3",
   "version": "3.7.7-final"
  }
 },
 "nbformat": 4,
 "nbformat_minor": 2
}