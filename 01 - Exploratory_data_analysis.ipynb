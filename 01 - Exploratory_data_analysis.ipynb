{
 "cells": [
  {
   "cell_type": "markdown",
   "metadata": {},
   "source": [
    "# Data Sets\n",
    "\n",
    "The data is contained in three files:\n",
    "\n",
    "* portfolio.json - containing offer ids and meta data about each offer (duration, type, etc.)\n",
    "* profile.json - demographic data for each customer\n",
    "* transcript.json - records for transactions, offers received, offers viewed, and offers completed\n",
    "\n",
    "Here is the schema and explanation of each variable in the files:\n",
    "\n",
    "**portfolio.json**\n",
    "* id (string) - offer id\n",
    "* offer_type (string) - type of offer ie BOGO, discount, informational\n",
    "* difficulty (int) - minimum required spend to complete an offer\n",
    "* reward (int) - reward given for completing an offer\n",
    "* duration (int) - time for offer to be open, in days\n",
    "* channels (list of strings)\n",
    "\n",
    "**profile.json**\n",
    "* age (int) - age of the customer \n",
    "* became_member_on (int) - date when customer created an app account\n",
    "* gender (str) - gender of the customer (note some entries contain 'O' for other rather than M or F)\n",
    "* id (str) - customer id\n",
    "* income (float) - customer's income\n",
    "\n",
    "**transcript.json**\n",
    "* event (str) - record description (ie transaction, offer received, offer viewed, etc.)\n",
    "* person (str) - customer id\n",
    "* time (int) - time in hours since start of test. The data begins at time t=0\n",
    "* value - (dict of strings) - either an offer id or transaction amount depending on the record"
   ]
  },
  {
   "cell_type": "code",
   "execution_count": 4,
   "metadata": {
    "tags": []
   },
   "outputs": [],
   "source": [
    "import pandas as pd\n",
    "import numpy as np\n",
    "import math\n",
    "import json\n",
    "import matplotlib.pyplot as plt\n",
    "\n",
    "%matplotlib inline\n",
    "\n",
    "# read in the json files\n",
    "portfolio = pd.read_json('data/portfolio.json', orient='records', lines=True)\n",
    "profile = pd.read_json('data/profile.json', orient='records', lines=True)\n",
    "transcript = pd.read_json('data/transcript.json', orient='records', lines=True)"
   ]
  },
  {
   "cell_type": "markdown",
   "metadata": {},
   "source": [
    "# USERS\n",
    "\n",
    "profile DataFrame analysis conclusions:\n",
    "* There are 17 000 users\n",
    "* 14 825 users have all the information\n",
    "* for the users with age '118' we will assume that the user diden't provide this information.' \n",
    "* 2 175 users dosen't have 'age' , 'gender' and ' income' information"
   ]
  },
  {
   "cell_type": "code",
   "execution_count": 2,
   "metadata": {},
   "outputs": [
    {
     "output_type": "execute_result",
     "data": {
      "text/plain": "  gender  age                                id  became_member_on    income\n0   None  118  68be06ca386d4c31939f3a4f0e3dd783          20170212       NaN\n1      F   55  0610b486422d4921ae7d2bf64640c50b          20170715  112000.0\n2   None  118  38fe809add3b4fcf9315a9694bb96ff5          20180712       NaN\n3      F   75  78afa995795e4d85b5d9ceeca43f5fef          20170509  100000.0\n4   None  118  a03223e636434f42ac4c3df47e8bac43          20170804       NaN",
      "text/html": "<div>\n<style scoped>\n    .dataframe tbody tr th:only-of-type {\n        vertical-align: middle;\n    }\n\n    .dataframe tbody tr th {\n        vertical-align: top;\n    }\n\n    .dataframe thead th {\n        text-align: right;\n    }\n</style>\n<table border=\"1\" class=\"dataframe\">\n  <thead>\n    <tr style=\"text-align: right;\">\n      <th></th>\n      <th>gender</th>\n      <th>age</th>\n      <th>id</th>\n      <th>became_member_on</th>\n      <th>income</th>\n    </tr>\n  </thead>\n  <tbody>\n    <tr>\n      <th>0</th>\n      <td>None</td>\n      <td>118</td>\n      <td>68be06ca386d4c31939f3a4f0e3dd783</td>\n      <td>20170212</td>\n      <td>NaN</td>\n    </tr>\n    <tr>\n      <th>1</th>\n      <td>F</td>\n      <td>55</td>\n      <td>0610b486422d4921ae7d2bf64640c50b</td>\n      <td>20170715</td>\n      <td>112000.0</td>\n    </tr>\n    <tr>\n      <th>2</th>\n      <td>None</td>\n      <td>118</td>\n      <td>38fe809add3b4fcf9315a9694bb96ff5</td>\n      <td>20180712</td>\n      <td>NaN</td>\n    </tr>\n    <tr>\n      <th>3</th>\n      <td>F</td>\n      <td>75</td>\n      <td>78afa995795e4d85b5d9ceeca43f5fef</td>\n      <td>20170509</td>\n      <td>100000.0</td>\n    </tr>\n    <tr>\n      <th>4</th>\n      <td>None</td>\n      <td>118</td>\n      <td>a03223e636434f42ac4c3df47e8bac43</td>\n      <td>20170804</td>\n      <td>NaN</td>\n    </tr>\n  </tbody>\n</table>\n</div>"
     },
     "metadata": {},
     "execution_count": 2
    }
   ],
   "source": [
    "profile.head()"
   ]
  },
  {
   "cell_type": "code",
   "execution_count": null,
   "metadata": {},
   "outputs": [],
   "source": [
    "print('Number of users: ' , profile.shape[0])\n",
    "print('Number of user listed more than one time:' , (profile.shape[0] - len(profile['id'].unique())))"
   ]
  },
  {
   "cell_type": "code",
   "execution_count": null,
   "metadata": {},
   "outputs": [],
   "source": [
    "user_age = profile.groupby('age')['id'].count()\n",
    "print ('Higher value in age feature:' , user_age[-1:])\n",
    "print ('Number of NaN values:' , profile[\"age\"].isna().sum())\n",
    "print ('Note: There are 2175 users with a value of 118 - we can assume that the user did not provide this information.')\n",
    "\n",
    "plt.bar(user_age.index , user_age);"
   ]
  },
  {
   "cell_type": "code",
   "execution_count": null,
   "metadata": {},
   "outputs": [],
   "source": [
    "user_became_member = profile.groupby('became_member_on')['id'].count()\n",
    "print('first user' , user_became_member[:1])\n",
    "print('Last user' , user_became_member[-1:])\n",
    "print ('Number of NaN values:' , profile[\"became_member_on\"].isna().sum())\n",
    "print ('Note: change type INT to datetime?.')"
   ]
  },
  {
   "cell_type": "code",
   "execution_count": null,
   "metadata": {},
   "outputs": [],
   "source": [
    "user_gender = profile.groupby('gender')['id'].count()\n",
    "print(user_gender)\n",
    "print ('Number of NaN values:' , profile[\"gender\"].isna().sum())\n",
    "print ('Note: there are also 2175 users without information in \"gender\", the same number of users that have 118 years, will they be the same users?')\n",
    "print ('users with 118 years and no information in gender:' , profile[profile['age'] == 118][\"gender\"].isna().sum())\n",
    "print('yes, the users that have 118 years are the same that does not have gender information, more reason to assume that the user did not give this information.')"
   ]
  },
  {
   "cell_type": "code",
   "execution_count": null,
   "metadata": {},
   "outputs": [],
   "source": [
    "user_income = profile.groupby('income')['id'].count()\n",
    "print('Range income: from' ,  user_income.index.min() , 'to' , user_income.index.max())\n",
    "print ('Number of NaN values:' , profile[\"income\"].isna().sum())\n",
    "print('again 2175 nan values')\n",
    "print ('users with 118 years and no information in income:' , profile[profile['age'] == 118][\"income\"].isna().sum())\n",
    "user_income.plot();"
   ]
  },
  {
   "cell_type": "markdown",
   "metadata": {},
   "source": [
    "# PROMOTIONS / OFFER\n",
    "\n",
    "portfolio DataFrame analysis conclusions:\n",
    "* There are 10 offers\n",
    "* There are 3 types of offers: bogo , informational and discount\n",
    "* There are no Nan values"
   ]
  },
  {
   "cell_type": "code",
   "execution_count": null,
   "metadata": {},
   "outputs": [],
   "source": [
    "portfolio"
   ]
  },
  {
   "cell_type": "code",
   "execution_count": null,
   "metadata": {},
   "outputs": [],
   "source": [
    "print('Number of offers: ' , portfolio.shape[0])\n",
    "print('Number of offers listed more than one time:' , (portfolio.shape[0] - len(portfolio['id'].unique())))"
   ]
  },
  {
   "cell_type": "code",
   "execution_count": null,
   "metadata": {},
   "outputs": [],
   "source": [
    "offer_channel_lst = portfolio.channels.tolist()\n",
    "unique_offer_channel_lst = []\n",
    "for x in offer_channel_lst: \n",
    "        # check if exists in unique_list or not \n",
    "        if x not in unique_offer_channel_lst: \n",
    "            unique_offer_channel_lst.append(x)\n",
    "print(unique_offer_channel_lst)\n",
    "print('there are 4 combinations of channels to interact with the offer, \"email\" is in all of them')"
   ]
  },
  {
   "cell_type": "code",
   "execution_count": null,
   "metadata": {},
   "outputs": [],
   "source": [
    "ordered_portfolio = portfolio.sort_values(by=['difficulty' ,'duration' , 'reward'])\n",
    "ordered_portfolio"
   ]
  },
  {
   "cell_type": "markdown",
   "metadata": {},
   "source": [
    "# ACTIONS / EVENT\n",
    "\n",
    "transcript DataFrame analysis conclusions:\n",
    "\n",
    "**event**\n",
    "\n",
    "* offer completed     33579\n",
    "* offer received      76277\n",
    "* offer viewed        57725\n",
    "* transaction        138953\n",
    "\n",
    "\n",
    "* 75.68% offers sent were viewed\n",
    "* 58.17% offers viewed were completed\n",
    "\n",
    "**users**\n",
    "* All 17 000 users are in the dataframe\n",
    "* 16 578 users have made at least one transaction\n",
    "\n",
    "trensaction\n",
    "* Transaction event is not realted with an offer event, thus we could split the feature value into 'offer id' and 'amount'. \n",
    "\n",
    "offer completed\n",
    "* offer completed has a value of 'offer_id' and 'reward' note: there is a difference in the name 'offer_id' ad 'offer id'\n",
    "\n",
    "The 'amount' of the transaction could be added to the profie of the user by number of transactions and total amount, to know how much an user spend and to have an average of how much s/he spend."
   ]
  },
  {
   "cell_type": "code",
   "execution_count": null,
   "metadata": {},
   "outputs": [],
   "source": [
    "transcript.head()"
   ]
  },
  {
   "cell_type": "code",
   "execution_count": null,
   "metadata": {},
   "outputs": [],
   "source": [
    "print('Number of events:' , transcript.shape[0])\n",
    "print('Number of users:' , len(transcript.groupby('person')['event'].count()))"
   ]
  },
  {
   "cell_type": "code",
   "execution_count": null,
   "metadata": {},
   "outputs": [],
   "source": [
    "event = transcript.groupby('event')['person'].count()\n",
    "event"
   ]
  },
  {
   "cell_type": "code",
   "execution_count": null,
   "metadata": {},
   "outputs": [],
   "source": [
    "print('porcentage offer viewed/recived:' , (event.loc['offer viewed'] * 100) / event.loc['offer received'] , '%')\n",
    "print('porcentage offer completed/recived:' , (event.loc['offer completed'] * 100) / event.loc['offer received'] , '%')\n",
    "print('porcentage offer completed/viewed:' , (event.loc['offer completed'] * 100) / event.loc['offer viewed'] , '%')"
   ]
  },
  {
   "cell_type": "code",
   "execution_count": null,
   "metadata": {},
   "outputs": [],
   "source": [
    "transaction = transcript[transcript['event'] == 'transaction']\n",
    "transaction.head()"
   ]
  },
  {
   "cell_type": "code",
   "execution_count": null,
   "metadata": {},
   "outputs": [],
   "source": [
    "print('Number of users that made at least one transaction:' , len(transaction.groupby('person')['event'].count()))"
   ]
  },
  {
   "cell_type": "code",
   "execution_count": null,
   "metadata": {},
   "outputs": [],
   "source": [
    "transcript[transcript['event'] == 'offer received'].head()"
   ]
  },
  {
   "cell_type": "code",
   "execution_count": null,
   "metadata": {},
   "outputs": [],
   "source": [
    "transcript[transcript['event'] == 'offer viewed'].head()"
   ]
  },
  {
   "cell_type": "code",
   "execution_count": null,
   "metadata": {},
   "outputs": [],
   "source": [
    "transcript[transcript['event'] == 'offer completed'].head()"
   ]
  }
 ],
 "metadata": {
  "kernelspec": {
   "display_name": "Python 3.7.7 64-bit ('venv')",
   "language": "python",
   "name": "python37764bitvenvf7323f51036b43e7a745900362034ad3"
  },
  "language_info": {
   "codemirror_mode": {
    "name": "ipython",
    "version": 3
   },
   "file_extension": ".py",
   "mimetype": "text/x-python",
   "name": "python",
   "nbconvert_exporter": "python",
   "pygments_lexer": "ipython3",
   "version": "3.7.7-final"
  }
 },
 "nbformat": 4,
 "nbformat_minor": 2
}