{
 "cells": [
  {
   "cell_type": "markdown",
   "metadata": {},
   "source": [
    "# Transcript"
   ]
  },
  {
   "cell_type": "code",
   "execution_count": 2,
   "metadata": {
    "tags": []
   },
   "outputs": [],
   "source": [
    "import pandas as pd\n",
    "import numpy as np\n",
    "import math\n",
    "import json\n",
    "\n",
    "%matplotlib inline\n",
    "\n",
    "# read in the json files\n",
    "portfolio = pd.read_json('data/portfolio.json', orient='records', lines=True)\n",
    "profile = pd.read_json('data/profile.json', orient='records', lines=True)\n",
    "transcript = pd.read_json('data/transcript.json', orient='records', lines=True)"
   ]
  },
  {
   "cell_type": "code",
   "execution_count": null,
   "metadata": {},
   "outputs": [],
   "source": [
    "def id_mapper(df , column):\n",
    "    '''\n",
    "    Map column and create a dict to change its value to an int for easier use.\n",
    "    INPUT:\n",
    "    df - DataFrame that has an 'id' column, for this case to be used with: portfolio and profile\n",
    "    column - str - name of the column to apply function to create dictionary\n",
    "    OUTPUT:\n",
    "    coded_dict - (dict) A dictionary of id as key and the 'new' encoded id as value\n",
    "    \n",
    "    '''  \n",
    "    coded_dict = dict()\n",
    "    cter = 1\n",
    "    \n",
    "    for x in df[column]:\n",
    "        if x not in coded_dict:\n",
    "            coded_dict[x] = str(cter)\n",
    "            cter+=1\n",
    "            \n",
    "    return coded_dict\n",
    "\n",
    "user_coded_dict = id_mapper(profile , 'id')\n",
    "offer_coded_dict = id_mapper(portfolio, 'id')"
   ]
  },
  {
   "cell_type": "code",
   "execution_count": null,
   "metadata": {},
   "outputs": [],
   "source": [
    "def arrange_events(df):\n",
    "    '''\n",
    "    cleaning and rearange of the dataframe transcript\n",
    "    IMPUT: df -dataFrame _ default is transcript\n",
    "    OUTPUT: modified dataFrame\n",
    "    \n",
    "    '''\n",
    "    \n",
    "    # read dictionary from 'value' feature and cerate columns \n",
    "    df = pd.concat([df.drop(['value'], axis=1), df['value'].apply(pd.Series)], axis=1)\n",
    "    \n",
    "    # merge offer id and offer_id columns\n",
    "    df['offer id'] = df['offer id'].combine_first(df['offer_id'])\n",
    "    df = df.drop(columns = ['offer_id'])\n",
    "    \n",
    "    # split into two dataFrames to merge rows with transaction and offer recived in the same time\n",
    "    df1 = df[df['event'] != 'transaction'][['event' , 'person' , 'time' , 'offer id' , 'reward']]\n",
    "    df2 = df[df['event'] == 'transaction'][['person' , 'time' , 'amount']]\n",
    "    \n",
    "    # merge the two dataFrames on time\n",
    "    df = pd.merge(df1, df2, how='outer', on=['person', 'time'])\n",
    "    \n",
    "    # create columns of type of event with the value of time\n",
    "    df = pd.concat([df, df.pivot_table(values='time', index=df.index, columns='event', aggfunc='first')], axis=1, sort=False)\n",
    "    \n",
    "    # fill NaN values in the offer id feature as 'no offer' to keep track of the transactions without an offer\n",
    "    df['offer id'] = df['offer id'].fillna(value = 'no offer')\n",
    "    df = df.rename(columns={'person':'user id'})\n",
    "    \n",
    "    # drop event and time columns\n",
    "    df = df.drop(columns=['event' , 'time'])\n",
    "    \n",
    "    return df"
   ]
  },
  {
   "cell_type": "code",
   "execution_count": null,
   "metadata": {},
   "outputs": [],
   "source": [
    "def offer_mapper(df):\n",
    "    coded_dict = id_mapper(df, 'offer_type')\n",
    "    \n",
    "    coded_df = df.replace({\"offer_type\":coded_dict})\n",
    "    offer_type = coded_df[['id' , 'offer_type']]\n",
    "    duration = coded_df[['id' , 'duration']]\n",
    "    \n",
    "    return offer_type , duration"
   ]
  },
  {
   "cell_type": "code",
   "execution_count": null,
   "metadata": {},
   "outputs": [],
   "source": [
    "offer_type_mapper , duration_mapper = offer_mapper(portfolio)"
   ]
  },
  {
   "cell_type": "code",
   "execution_count": null,
   "metadata": {},
   "outputs": [],
   "source": [
    "arrange_transcript = arrange_events(transcript)"
   ]
  },
  {
   "cell_type": "code",
   "execution_count": null,
   "metadata": {},
   "outputs": [],
   "source": [
    "arrange_transcript.head()"
   ]
  },
  {
   "cell_type": "code",
   "execution_count": null,
   "metadata": {},
   "outputs": [],
   "source": [
    "def more_than_one_offer(df):\n",
    "    \n",
    "    '''\n",
    "    check if one offer has been sent more than one time and then merge rows from the same offer into one row\n",
    "    \n",
    "    '''\n",
    "    offers_received_lst = df['offer id'].unique().tolist()\n",
    "    total_offers_received = df['offer received'].count()\n",
    "    temp_df = df.head(0)\n",
    "    user_id = df['user id'].unique()[0]\n",
    "\n",
    "    for offer in offers_received_lst:\n",
    "        \n",
    "        offer_df = df[df['offer id'] == offer].copy()\n",
    "        \n",
    "        if offer_df['offer received'].count() > 1:\n",
    "            cter = 0\n",
    "            flag = []\n",
    "            \n",
    "            #create list to flag each offer            \n",
    "            for index, row in offer_df.iterrows():\n",
    "                if not np.isnan(row['offer received']):\n",
    "                    cter+=1\n",
    "                    flag.append(cter)\n",
    "                    \n",
    "                else:\n",
    "                    flag.append(cter)\n",
    "                    \n",
    "            offer_df['flag'] = flag \n",
    "            offer_df = offer_df.groupby(['flag' , 'offer id']).mean().reset_index().drop(columns='flag')\n",
    "\n",
    "        else:\n",
    "            offer_df = offer_df.groupby('offer id').mean().reset_index()\n",
    "            \n",
    "        temp_df = temp_df.append(offer_df , sort=False)\n",
    "    \n",
    "    df = temp_df    \n",
    "    df[['reward' , 'amount']] = df[['reward' , 'amount']].fillna(value = 0)\n",
    "    \n",
    "    df = pd.merge(df, offer_type_mapper, how='left', left_on=['offer id'] , right_on=['id'])\n",
    "    df['offer_type'] = df['offer_type'].fillna(value = str(4))\n",
    "    df['user id'] = df['user id'].fillna(value = user_id)\n",
    "    \n",
    "    for row in range(len(df)):\n",
    "        if df.loc[row]['offer viewed'] > df.loc[row]['offer completed']:\n",
    "            df = df.drop([row])\n",
    "        elif np.isnan(df.loc[row]['offer viewed']) and not np.isnan(df.loc[row]['offer completed']):\n",
    "            df = df.drop([row]) \n",
    "        else:\n",
    "            pass\n",
    "\n",
    "    return df"
   ]
  },
  {
   "cell_type": "code",
   "execution_count": null,
   "metadata": {},
   "outputs": [],
   "source": [
    "user_id_lst = profile['id'].tolist()\n",
    "amount_lst = []\n",
    "offers_lst = []\n",
    "offers_view_lst = []\n",
    "offers_completed_lst = []\n",
    "\n",
    "for user in user_id_lst:\n",
    "    \n",
    "    user_arrange_transcript = arrange_transcript[arrange_transcript['user id'] == user]\n",
    "    user_events = more_than_one_offer(user_arrange_transcript)\n",
    "    \n",
    "    amount = {'user id' : user}\n",
    "    offers = {'user id' : user}\n",
    "    offers_view = {'user id' : user}\n",
    "    offers_completed = {'user id' : user}\n",
    "    \n",
    "    amount.update(user_events.groupby('offer_type').mean()['amount'].to_dict())\n",
    "    offers.update(user_events.groupby('offer_type').count()['offer id'].to_dict())\n",
    "    offers_view.update(user_events.groupby('offer_type').count()['offer viewed'].to_dict())\n",
    "    offers_completed.update(user_events.groupby('offer_type').count()['offer completed'].to_dict())\n",
    "\n",
    "    amount_lst.append(amount)\n",
    "    offers_lst.append(offers)\n",
    "    offers_view_lst.append(offers_view)\n",
    "    offers_completed_lst.append(offers_completed) "
   ]
  },
  {
   "cell_type": "code",
   "execution_count": null,
   "metadata": {},
   "outputs": [],
   "source": [
    "amount_type = pd.DataFrame(amount_list)\n",
    "amount_type.fillna(user_amount_type.mean(), inplace = True)\n",
    "amount_type.rename(columns={'1': 'type 1', '2': 'type 2', '3': 'type 3' , '4': 'no offer'} , inplace = True)\n",
    "\n",
    "amount_type.head()"
   ]
  },
  {
   "cell_type": "code",
   "execution_count": null,
   "metadata": {},
   "outputs": [],
   "source": [
    "user_offers = pd.DataFrame(offers_lst).drop(columns='4')\n",
    "user_offers.fillna(value = 0 , inplace = True)\n",
    "user_offers.rename(columns={'1': 'offers type 1', '2': 'offers type 2', '3': 'offers type 3'} , inplace = True)\n",
    "\n",
    "user_offers.head()"
   ]
  },
  {
   "cell_type": "code",
   "execution_count": null,
   "metadata": {},
   "outputs": [],
   "source": [
    "offers_viewed = pd.DataFrame(offers_view_lst).drop(columns='4')\n",
    "offers_viewed.fillna(value = 0 , inplace = True)\n",
    "offers_viewed.rename(columns={'1': 'viewed type 1', '2': 'viewed type 2', '3': 'viewed type 3'} , inplace = True)\n",
    "\n",
    "offers_viewed.head()"
   ]
  },
  {
   "cell_type": "code",
   "execution_count": null,
   "metadata": {},
   "outputs": [],
   "source": [
    "offers_completed = pd.DataFrame(offers_completed_lst).drop(columns='4')\n",
    "offers_completed.fillna(value = 0 , inplace = True)\n",
    "offers_completed.rename(columns={'1': 'completed type 1', '2': 'completed type 2', '3': 'completed type 3'} , inplace = True)\n",
    "\n",
    "offers_completed.head()"
   ]
  },
  {
   "cell_type": "code",
   "execution_count": null,
   "metadata": {},
   "outputs": [],
   "source": [
    "profile.head()"
   ]
  },
  {
   "cell_type": "code",
   "execution_count": null,
   "metadata": {},
   "outputs": [],
   "source": [
    "profile_mod = pd.concat([profile_mod , pd.get_dummies(profile_mod['gender'])],axis=1)\n",
    "profile_mod.drop(['gender'],axis=1, inplace=True)\n",
    "\n",
    "profile_mod.head()"
   ]
  },
  {
   "cell_type": "code",
   "execution_count": null,
   "metadata": {},
   "outputs": [],
   "source": [
    "profile_amount = pd.merge(profile_mod, amount_type, how='inner' , left_on=\"id\" , right_on=\"user id\")\n",
    "profile_amount.drop(['id' , 'became_member_on'],axis=1, inplace=True)\n",
    "profile_amount.head()"
   ]
  },
  {
   "cell_type": "code",
   "execution_count": null,
   "metadata": {},
   "outputs": [],
   "source": [
    "profile_amount_offer = pd.merge(profile_amount, user_offers, how='inner' , on=\"user id\")\n",
    "profile_amount_offer = pd.merge(profile_amount_offer, offers_viewed, how='inner' , on=\"user id\")\n",
    "profile_amount_offer = pd.merge(profile_amount_offer, offers_completed, how='inner' , on=\"user id\")\n",
    "\n",
    "profile_amount_offer.head()"
   ]
  },
  {
   "cell_type": "code",
   "execution_count": null,
   "metadata": {},
   "outputs": [],
   "source": [
    "profile_amount.to_csv('data/profile_amount.csv' , index=False)"
   ]
  },
  {
   "cell_type": "code",
   "execution_count": null,
   "metadata": {},
   "outputs": [],
   "source": [
    "profile_amount_offer.to_csv('data/profile_amount_offer.csv' , index=False)"
   ]
  },
  {
   "cell_type": "markdown",
   "metadata": {},
   "source": [
    "# TEST"
   ]
  },
  {
   "cell_type": "code",
   "execution_count": null,
   "metadata": {},
   "outputs": [],
   "source": [
    "user1_test = arrange_transcript[arrange_transcript['user id'] == '78afa995795e4d85b5d9ceeca43f5fef']\n",
    "user2_test = arrange_transcript[arrange_transcript['user id'] == 'a03223e636434f42ac4c3df47e8bac43']"
   ]
  },
  {
   "cell_type": "code",
   "execution_count": null,
   "metadata": {},
   "outputs": [],
   "source": [
    "user1_test"
   ]
  },
  {
   "cell_type": "code",
   "execution_count": null,
   "metadata": {},
   "outputs": [],
   "source": [
    "user2_test"
   ]
  },
  {
   "cell_type": "code",
   "execution_count": null,
   "metadata": {},
   "outputs": [],
   "source": [
    "papapa = user2_test[user2_test['offer id'] == '0b1e1539f2cc45b7b9fa7c272da2e1d7'].copy()"
   ]
  },
  {
   "cell_type": "code",
   "execution_count": null,
   "metadata": {},
   "outputs": [],
   "source": [
    "pepepe = user2_test[user2_test['offer id'] == '3f207df678b143eea3cee63160fa8bed']\n",
    "pepepe"
   ]
  },
  {
   "cell_type": "code",
   "execution_count": null,
   "metadata": {},
   "outputs": [],
   "source": [
    "pupupu = pepepe.head(0)\n",
    "pupupu"
   ]
  },
  {
   "cell_type": "code",
   "execution_count": null,
   "metadata": {},
   "outputs": [],
   "source": [
    "pupupu = pupupu.append(papapa , sort=False)\n",
    "pupupu"
   ]
  },
  {
   "cell_type": "code",
   "execution_count": null,
   "metadata": {},
   "outputs": [],
   "source": [
    "pipipi = papapa.append(pepepe , sort=False)\n",
    "pipipi"
   ]
  },
  {
   "cell_type": "code",
   "execution_count": null,
   "metadata": {},
   "outputs": [],
   "source": [
    "user_ida = pipipi['user id'].unique()[0]\n",
    "user_ida"
   ]
  },
  {
   "cell_type": "code",
   "execution_count": null,
   "metadata": {},
   "outputs": [],
   "source": [
    "listilla = []\n",
    "cter = 0\n",
    "\n",
    "for index, row in papapa.iterrows():\n",
    "    if not np.isnan(row['offer received']):\n",
    "        cter+=1\n",
    "        listilla.append(cter)\n",
    "    else:\n",
    "        listilla.append(cter)\n",
    "        \n",
    "        \n",
    "listilla"
   ]
  },
  {
   "cell_type": "code",
   "execution_count": null,
   "metadata": {},
   "outputs": [],
   "source": [
    "papapa['flag'] = listilla\n",
    "papapa"
   ]
  },
  {
   "cell_type": "code",
   "execution_count": null,
   "metadata": {},
   "outputs": [],
   "source": [
    "papapa.groupby(['flag' , 'offer id']).mean().reset_index().drop(columns='flag')"
   ]
  },
  {
   "cell_type": "code",
   "execution_count": null,
   "metadata": {},
   "outputs": [],
   "source": [
    "papapa.columns.tolist()"
   ]
  },
  {
   "cell_type": "markdown",
   "metadata": {},
   "source": [
    "# df for each user"
   ]
  },
  {
   "cell_type": "code",
   "execution_count": null,
   "metadata": {},
   "outputs": [],
   "source": [
    "user_2_mod = more_than_one_offer(user2_test)\n",
    "user_2_mod"
   ]
  },
  {
   "cell_type": "code",
   "execution_count": null,
   "metadata": {},
   "outputs": [],
   "source": [
    "user_2_number_offers = user_2_mod.groupby('offer_type').count()['offer id'].to_dict()\n",
    "user_2_number_offers"
   ]
  },
  {
   "cell_type": "code",
   "execution_count": null,
   "metadata": {},
   "outputs": [],
   "source": [
    "user_2_offers_completed = user_2_mod.groupby('offer_type').count()['offer completed'].to_dict()\n",
    "user_2_offers_completed"
   ]
  },
  {
   "cell_type": "code",
   "execution_count": null,
   "metadata": {},
   "outputs": [],
   "source": [
    "user_2_amount = {'user id' : user_2_mod['user id'][0]}\n",
    "user_2_amount.update(user_2_mod.groupby('offer_type').mean()['amount'].to_dict())\n",
    "user_2_amount"
   ]
  },
  {
   "cell_type": "code",
   "execution_count": null,
   "metadata": {},
   "outputs": [],
   "source": [
    "user_2_reward = user_2_mod.groupby('offer_type').mean()['reward'].to_dict()\n",
    "user_2_reward"
   ]
  },
  {
   "cell_type": "code",
   "execution_count": null,
   "metadata": {},
   "outputs": [],
   "source": [
    "user_1_mod = more_than_one_offer(user1_test)\n",
    "user_1_mod"
   ]
  },
  {
   "cell_type": "code",
   "execution_count": null,
   "metadata": {},
   "outputs": [],
   "source": [
    "user_1_number_offers = user_1_mod.groupby('offer_type').count()['offer id'].to_dict()\n",
    "user_1_number_offers"
   ]
  },
  {
   "cell_type": "code",
   "execution_count": null,
   "metadata": {},
   "outputs": [],
   "source": [
    "user_1_offers_completed = user_1_mod.groupby('offer_type').count()['offer completed'].to_dict()\n",
    "user_1_offers_completed"
   ]
  },
  {
   "cell_type": "code",
   "execution_count": null,
   "metadata": {},
   "outputs": [],
   "source": [
    "user_1_offers_viewed = user_1_mod.groupby('offer_type').count()['offer viewed'].to_dict()\n",
    "user_1_offers_viewed"
   ]
  },
  {
   "cell_type": "code",
   "execution_count": null,
   "metadata": {},
   "outputs": [],
   "source": [
    "user_1_amount = user_1_mod.groupby('offer_type').mean()['amount'].to_dict()\n",
    "user_1_amount"
   ]
  },
  {
   "cell_type": "code",
   "execution_count": null,
   "metadata": {},
   "outputs": [],
   "source": [
    "user_1_reward = user_1_mod.groupby('offer_type').mean()['reward'].to_dict()\n",
    "user_1_reward"
   ]
  },
  {
   "cell_type": "markdown",
   "metadata": {},
   "source": [
    "# creating dictionaries ALL users"
   ]
  },
  {
   "cell_type": "code",
   "execution_count": null,
   "metadata": {},
   "outputs": [],
   "source": [
    "profile.head()\n",
    "user_id_list = profile['id'].tolist()\n",
    "len(user_id_list[:5])"
   ]
  },
  {
   "cell_type": "code",
   "execution_count": null,
   "metadata": {},
   "outputs": [],
   "source": [
    "amount_list = []\n",
    "\n",
    "for user in user_id_list:\n",
    "    \n",
    "    user_arrange_transcript = arrange_transcript[arrange_transcript['user id'] == user]\n",
    "    user_events = more_than_one_offer(user_arrange_transcript)\n",
    "    \n",
    "    amount = {'user id' : user}\n",
    "    amount.update(user_events.groupby('offer_type').mean()['amount'].to_dict())\n",
    "\n",
    "    amount_list.append(amount)"
   ]
  },
  {
   "cell_type": "code",
   "execution_count": null,
   "metadata": {},
   "outputs": [],
   "source": [
    "user_amount_type = pd.DataFrame(amount_list)\n",
    "user_amount_type.head()"
   ]
  },
  {
   "cell_type": "code",
   "execution_count": null,
   "metadata": {},
   "outputs": [],
   "source": [
    "amount_type = user_amount_type.fillna(user_amount_type.mean())\n",
    "amount_type.head()"
   ]
  },
  {
   "cell_type": "code",
   "execution_count": null,
   "metadata": {},
   "outputs": [],
   "source": [
    "profile.head()"
   ]
  },
  {
   "cell_type": "code",
   "execution_count": null,
   "metadata": {},
   "outputs": [],
   "source": [
    "df_to_model = pd.merge(profile, amount_type, how='outer' , left_on=\"id\" , right_on=\"user id\")"
   ]
  },
  {
   "cell_type": "code",
   "execution_count": null,
   "metadata": {},
   "outputs": [],
   "source": [
    "df_to_model.head()"
   ]
  },
  {
   "cell_type": "markdown",
   "metadata": {},
   "source": [
    "# dont know"
   ]
  },
  {
   "cell_type": "code",
   "execution_count": null,
   "metadata": {},
   "outputs": [],
   "source": [
    "for index, row in user1_test.iterrows():\n",
    "    print(row['offer viewed'], row['offer completed'])"
   ]
  },
  {
   "cell_type": "code",
   "execution_count": null,
   "metadata": {},
   "outputs": [],
   "source": [
    "for index, row in user1_test.iterrows():\n",
    "    if row['offer viewed'] > row['offer completed']:\n",
    "        print(row['offer viewed'], row['offer completed'])\n",
    "        user1_test = user1_test.drop([row])\n",
    "    else:\n",
    "        pass\n",
    "user1_test"
   ]
  },
  {
   "cell_type": "code",
   "execution_count": null,
   "metadata": {},
   "outputs": [],
   "source": [
    "for row in range(len(user2_offer)):\n",
    "    if user2_offer.loc[row]['offer viewed'] > user2_offer.loc[row]['offer completed']:\n",
    "        user2_offer = user2_offer.drop([row])\n",
    "    else:\n",
    "        pass\n",
    "user1_offer"
   ]
  },
  {
   "cell_type": "code",
   "execution_count": null,
   "metadata": {},
   "outputs": [],
   "source": [
    "user1_test = user1_test.groupby('offer id').mean()\n",
    "user2_test = user2_test.groupby('offer id').mean()\n",
    "user1_test"
   ]
  },
  {
   "cell_type": "code",
   "execution_count": null,
   "metadata": {},
   "outputs": [],
   "source": [
    "portfolio.head()"
   ]
  },
  {
   "cell_type": "code",
   "execution_count": null,
   "metadata": {},
   "outputs": [],
   "source": [
    "offer_type_coded_dict = id_mapper(portfolio , 'offer_type')"
   ]
  },
  {
   "cell_type": "code",
   "execution_count": null,
   "metadata": {},
   "outputs": [],
   "source": [
    "portfolio_mod = portfolio.replace({\"offer_type\":offer_type_coded_dict})[['id' , 'offer_type']]\n",
    "portfolio_mod"
   ]
  },
  {
   "cell_type": "code",
   "execution_count": null,
   "metadata": {},
   "outputs": [],
   "source": [
    "user1_test.index"
   ]
  },
  {
   "cell_type": "code",
   "execution_count": null,
   "metadata": {},
   "outputs": [],
   "source": [
    "user1_offer = pd.merge(user1_test, portfolio_mod, how='left', left_on=user1_test.index , right_on=['id'])\n",
    "user1_offer['offer_type'] = user1_offer['offer_type'].fillna(value = 4)\n",
    "\n",
    "user2_offer = pd.merge(user2_test, portfolio_mod, how='left', left_on=user2_test.index , right_on=['id'])\n",
    "user2_offer['offer_type'] = user2_offer['offer_type'].fillna(value = 4)\n",
    "\n",
    "user1_offer"
   ]
  },
  {
   "cell_type": "code",
   "execution_count": null,
   "metadata": {},
   "outputs": [],
   "source": [
    "for row in range(len(user1_offer)):\n",
    "    if user1_offer.loc[row]['offer viewed'] > user1_offer.loc[row]['offer completed']:\n",
    "        user1_offer = user1_offer.drop([row])\n",
    "    else:\n",
    "        pass\n",
    "user1_offer"
   ]
  },
  {
   "cell_type": "code",
   "execution_count": null,
   "metadata": {},
   "outputs": [],
   "source": [
    "for row in range(len(user2_offer)):\n",
    "    if user2_offer.loc[row]['offer viewed'] > user2_offer.loc[row]['offer completed']:\n",
    "        user2_offer = user2_offer.drop([row])\n",
    "    else:\n",
    "        pass\n",
    "user2_offer"
   ]
  },
  {
   "cell_type": "code",
   "execution_count": null,
   "metadata": {},
   "outputs": [],
   "source": [
    "user_offer[['reward' , 'amount']] = user_offer[['reward' , 'amount']].fillna(value = 0)\n",
    "user_offer"
   ]
  },
  {
   "cell_type": "code",
   "execution_count": null,
   "metadata": {},
   "outputs": [],
   "source": [
    "user_offer['time_recived_viewed'] = user_offer['offer viewed'] - user_offer['offer received']\n",
    "user_offer['time_viewed_completed'] = user_offer['offer completed'] - user_offer['offer viewed']\n",
    "user_offer = user_offer.drop(columns=['id' ,'offer completed' , 'offer received' , 'offer viewed'])\n",
    "user_offer"
   ]
  },
  {
   "cell_type": "code",
   "execution_count": null,
   "metadata": {},
   "outputs": [],
   "source": [
    "user_offer.groupby('offer_type').mean()"
   ]
  },
  {
   "cell_type": "code",
   "execution_count": null,
   "metadata": {},
   "outputs": [],
   "source": [
    "total_amount = user_offer['amount'].groupby(user_offer['offer_type']) \n",
    "total_amount.mean()"
   ]
  },
  {
   "cell_type": "code",
   "execution_count": null,
   "metadata": {},
   "outputs": [],
   "source": [
    "user_1_dic = {'offer'}"
   ]
  },
  {
   "cell_type": "code",
   "execution_count": null,
   "metadata": {},
   "outputs": [],
   "source": [
    "#profile_mod = profile.replace({\"id\": user_coded_dict})"
   ]
  },
  {
   "cell_type": "code",
   "execution_count": null,
   "metadata": {},
   "outputs": [],
   "source": [
    "#portfolio_mod = portfolio.replace({\"id\": offer_coded_dict})"
   ]
  },
  {
   "cell_type": "code",
   "execution_count": null,
   "metadata": {},
   "outputs": [],
   "source": [
    "modify_transcript.to_csv('data/events.csv')"
   ]
  },
  {
   "cell_type": "markdown",
   "metadata": {},
   "source": [
    "# Testing and tables to explain"
   ]
  },
  {
   "cell_type": "code",
   "execution_count": null,
   "metadata": {},
   "outputs": [],
   "source": [
    "transcript_mod = pd.concat([transcript.drop(['value'], axis=1), transcript['value'].apply(pd.Series)], axis=1)\n",
    "transcript_mod.head()"
   ]
  },
  {
   "cell_type": "code",
   "execution_count": null,
   "metadata": {},
   "outputs": [],
   "source": [
    "print('All offer_id have a reward:' , (transcript_mod.groupby('offer_id')['person'].count().sum() == transcript_mod.groupby('reward')['person'].count().sum()))"
   ]
  },
  {
   "cell_type": "code",
   "execution_count": null,
   "metadata": {},
   "outputs": [],
   "source": [
    "transcript_mod['offer id'] = transcript_mod['offer id'].combine_first(transcript_mod['offer_id'])#.fillna(value = 'no offer')\n",
    "transcript_mod = transcript_mod.drop(columns = ['offer_id'])\n",
    "#transcript_mod = transcript_mod.fillna(value = 0 , axis = 1)"
   ]
  },
  {
   "cell_type": "code",
   "execution_count": null,
   "metadata": {},
   "outputs": [],
   "source": [
    "test_user = transcript_mod[transcript_mod['person'] == '78afa995795e4d85b5d9ceeca43f5fef']"
   ]
  },
  {
   "cell_type": "code",
   "execution_count": null,
   "metadata": {},
   "outputs": [],
   "source": [
    "test_user"
   ]
  },
  {
   "cell_type": "code",
   "execution_count": null,
   "metadata": {},
   "outputs": [],
   "source": [
    "test_user.groupby('offer id').mean()"
   ]
  },
  {
   "cell_type": "code",
   "execution_count": null,
   "metadata": {},
   "outputs": [],
   "source": [
    "time_amount = test_user[test_user['event'] == 'transaction'][['time' , 'amount']]\n",
    "time_amount"
   ]
  },
  {
   "cell_type": "code",
   "execution_count": null,
   "metadata": {},
   "outputs": [],
   "source": [
    "otra_tabla =  test_user[test_user['event'] != 'transaction'][['event' , 'time' , 'offer id' , 'reward']]\n",
    "otra_tabla"
   ]
  },
  {
   "cell_type": "code",
   "execution_count": null,
   "metadata": {},
   "outputs": [],
   "source": [
    "tada = pd.merge(otra_tabla, time_amount, how='outer', on='time')\n",
    "tada"
   ]
  },
  {
   "cell_type": "code",
   "execution_count": null,
   "metadata": {},
   "outputs": [],
   "source": [
    "tada = pd.concat([tada, tada.pivot_table(values='time', index=tada.index, columns='event', aggfunc='first')], axis=1, sort=False)\n",
    "tada"
   ]
  },
  {
   "cell_type": "code",
   "execution_count": null,
   "metadata": {},
   "outputs": [],
   "source": [
    "tada['offer id'] = tada['offer id'].fillna(value = 'no offer')\n",
    "tada = tada.drop(columns=['event' , 'time'])\n",
    "tada"
   ]
  },
  {
   "cell_type": "code",
   "execution_count": null,
   "metadata": {},
   "outputs": [],
   "source": [
    "tada.groupby('offer id').mean()"
   ]
  },
  {
   "cell_type": "code",
   "execution_count": null,
   "metadata": {},
   "outputs": [],
   "source": [
    "total_amount = tada['amount'].groupby(user2_test['offer type']) \n",
    "total_amount.mean()"
   ]
  }
 ],
 "metadata": {
  "kernelspec": {
   "display_name": "Python 3.7.7 64-bit ('venv')",
   "language": "python",
   "name": "python37764bitvenvf7323f51036b43e7a745900362034ad3"
  },
  "language_info": {
   "codemirror_mode": {
    "name": "ipython",
    "version": 3
   },
   "file_extension": ".py",
   "mimetype": "text/x-python",
   "name": "python",
   "nbconvert_exporter": "python",
   "pygments_lexer": "ipython3",
   "version": "3.7.7-final"
  }
 },
 "nbformat": 4,
 "nbformat_minor": 2
}